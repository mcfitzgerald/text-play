{
 "cells": [
  {
   "cell_type": "code",
   "execution_count": 1,
   "id": "fatal-wagon",
   "metadata": {},
   "outputs": [],
   "source": [
    "import logging\n",
    "logging.basicConfig(format='%(asctime)s : %(levelname)s : %(message)s', level=logging.INFO)"
   ]
  },
  {
   "cell_type": "code",
   "execution_count": 2,
   "id": "bulgarian-orange",
   "metadata": {},
   "outputs": [],
   "source": [
    "from collections import defaultdict\n",
    "from gensim import corpora"
   ]
  },
  {
   "cell_type": "code",
   "execution_count": 3,
   "id": "cooperative-soundtrack",
   "metadata": {},
   "outputs": [],
   "source": [
    "documents = [\n",
    "    \"Human machine interface for lab abc computer applications\",\n",
    "    \"A survey of user opinion of computer system response time\",\n",
    "    \"The EPS user interface management system\",\n",
    "    \"System and human system engineering testing of EPS\",\n",
    "    \"Relation of user perceived response time to error measurement\",\n",
    "    \"The generation of random binary unordered trees\",\n",
    "    \"The intersection graph of paths in trees\",\n",
    "    \"Graph minors IV Widths of trees and well quasi ordering\",\n",
    "    \"Graph minors A survey\",\n",
    "]"
   ]
  },
  {
   "cell_type": "code",
   "execution_count": 4,
   "id": "broke-latino",
   "metadata": {},
   "outputs": [],
   "source": [
    "stoplist = set('for a of the and to in'.split())\n",
    "texts = [\n",
    "    [word for word in document.lower().split() if word not in stoplist]\n",
    "    for document in documents\n",
    "]"
   ]
  },
  {
   "cell_type": "code",
   "execution_count": 5,
   "id": "israeli-bottom",
   "metadata": {},
   "outputs": [],
   "source": [
    "frequency = defaultdict(int)\n",
    "for text in texts:\n",
    "    for token in text:\n",
    "        frequency[token] += 1"
   ]
  },
  {
   "cell_type": "code",
   "execution_count": 6,
   "id": "demanding-prague",
   "metadata": {},
   "outputs": [],
   "source": [
    "texts = [\n",
    "    [token for token in text if frequency[token] > 1]\n",
    "    for text in texts\n",
    "]"
   ]
  },
  {
   "cell_type": "code",
   "execution_count": 7,
   "id": "mathematical-rebound",
   "metadata": {},
   "outputs": [
    {
     "name": "stderr",
     "output_type": "stream",
     "text": [
      "2021-02-17 05:26:17,539 : INFO : adding document #0 to Dictionary(0 unique tokens: [])\n",
      "2021-02-17 05:26:17,541 : INFO : built Dictionary(12 unique tokens: ['computer', 'human', 'interface', 'response', 'survey']...) from 9 documents (total 29 corpus positions)\n"
     ]
    }
   ],
   "source": [
    "dictionary = corpora.Dictionary(texts)\n",
    "corpus = [dictionary.doc2bow(text) for text in texts]"
   ]
  },
  {
   "cell_type": "code",
   "execution_count": 8,
   "id": "sustainable-warrior",
   "metadata": {},
   "outputs": [],
   "source": [
    "from gensim import models"
   ]
  },
  {
   "cell_type": "code",
   "execution_count": 9,
   "id": "dangerous-adobe",
   "metadata": {},
   "outputs": [
    {
     "name": "stderr",
     "output_type": "stream",
     "text": [
      "2021-02-17 05:26:22,195 : INFO : collecting document frequencies\n",
      "2021-02-17 05:26:22,197 : INFO : PROGRESS: processing document #0\n",
      "2021-02-17 05:26:22,199 : INFO : calculating IDF weights for 9 documents and 12 features (28 matrix non-zeros)\n"
     ]
    }
   ],
   "source": [
    "tfidf = models.TfidfModel(corpus)"
   ]
  },
  {
   "cell_type": "code",
   "execution_count": 12,
   "id": "homeless-economics",
   "metadata": {},
   "outputs": [],
   "source": [
    "doc_bow = [(0,1),(1,1)]"
   ]
  },
  {
   "cell_type": "code",
   "execution_count": 13,
   "id": "genuine-pride",
   "metadata": {},
   "outputs": [
    {
     "name": "stdout",
     "output_type": "stream",
     "text": [
      "[(0, 0.7071067811865476), (1, 0.7071067811865476)]\n"
     ]
    }
   ],
   "source": [
    "print(tfidf[doc_bow])"
   ]
  },
  {
   "cell_type": "code",
   "execution_count": 15,
   "id": "removed-pasta",
   "metadata": {},
   "outputs": [],
   "source": [
    "corpus_tfidf = tfidf[corpus]"
   ]
  },
  {
   "cell_type": "code",
   "execution_count": 16,
   "id": "thirty-infrastructure",
   "metadata": {},
   "outputs": [
    {
     "name": "stdout",
     "output_type": "stream",
     "text": [
      "[(0, 0.5773502691896257), (1, 0.5773502691896257), (2, 0.5773502691896257)]\n",
      "[(0, 0.44424552527467476), (3, 0.44424552527467476), (4, 0.44424552527467476), (5, 0.3244870206138555), (6, 0.44424552527467476), (7, 0.3244870206138555)]\n",
      "[(2, 0.5710059809418182), (5, 0.4170757362022777), (7, 0.4170757362022777), (8, 0.5710059809418182)]\n",
      "[(1, 0.49182558987264147), (5, 0.7184811607083769), (8, 0.49182558987264147)]\n",
      "[(3, 0.6282580468670046), (6, 0.6282580468670046), (7, 0.45889394536615247)]\n",
      "[(9, 1.0)]\n",
      "[(9, 0.7071067811865475), (10, 0.7071067811865475)]\n",
      "[(9, 0.5080429008916749), (10, 0.5080429008916749), (11, 0.695546419520037)]\n",
      "[(4, 0.6282580468670046), (10, 0.45889394536615247), (11, 0.6282580468670046)]\n"
     ]
    }
   ],
   "source": [
    "for doc in corpus_tfidf:\n",
    "    print(doc)"
   ]
  },
  {
   "cell_type": "code",
   "execution_count": 17,
   "id": "brave-handling",
   "metadata": {},
   "outputs": [
    {
     "name": "stderr",
     "output_type": "stream",
     "text": [
      "2021-02-17 05:39:41,092 : INFO : using serial LSI version on this node\n",
      "2021-02-17 05:39:41,096 : INFO : updating model with new documents\n",
      "2021-02-17 05:39:41,098 : INFO : preparing a new chunk of documents\n",
      "2021-02-17 05:39:41,103 : INFO : using 100 extra samples and 2 power iterations\n",
      "2021-02-17 05:39:41,104 : INFO : 1st phase: constructing (12, 102) action matrix\n",
      "2021-02-17 05:39:41,112 : INFO : orthonormalizing (12, 102) action matrix\n",
      "2021-02-17 05:39:41,124 : INFO : 2nd phase: running dense svd on (12, 9) matrix\n",
      "2021-02-17 05:39:41,131 : INFO : computing the final decomposition\n",
      "2021-02-17 05:39:41,134 : INFO : keeping 2 factors (discarding 47.565% of energy spectrum)\n",
      "2021-02-17 05:39:41,136 : INFO : processed documents up to #9\n",
      "2021-02-17 05:39:41,140 : INFO : topic #0(1.594): 0.703*\"trees\" + 0.538*\"graph\" + 0.402*\"minors\" + 0.187*\"survey\" + 0.061*\"system\" + 0.060*\"response\" + 0.060*\"time\" + 0.058*\"user\" + 0.049*\"computer\" + 0.035*\"interface\"\n",
      "2021-02-17 05:39:41,143 : INFO : topic #1(1.476): -0.460*\"system\" + -0.373*\"user\" + -0.332*\"eps\" + -0.328*\"interface\" + -0.320*\"response\" + -0.320*\"time\" + -0.293*\"computer\" + -0.280*\"human\" + -0.171*\"survey\" + 0.161*\"trees\"\n"
     ]
    }
   ],
   "source": [
    "lsi_model = models.LsiModel(corpus_tfidf, id2word=dictionary, num_topics=2)  # initialize an LSI transformation"
   ]
  },
  {
   "cell_type": "code",
   "execution_count": 18,
   "id": "ranging-bulletin",
   "metadata": {},
   "outputs": [],
   "source": [
    "corpus_lsi = lsi_model[corpus_tfidf]  # create a double wrapper over the original corpus: bow->tfidf->fold-in-lsi"
   ]
  },
  {
   "cell_type": "code",
   "execution_count": 19,
   "id": "taken-plasma",
   "metadata": {},
   "outputs": [
    {
     "name": "stderr",
     "output_type": "stream",
     "text": [
      "2021-02-17 05:41:22,568 : INFO : topic #0(1.594): 0.703*\"trees\" + 0.538*\"graph\" + 0.402*\"minors\" + 0.187*\"survey\" + 0.061*\"system\" + 0.060*\"response\" + 0.060*\"time\" + 0.058*\"user\" + 0.049*\"computer\" + 0.035*\"interface\"\n",
      "2021-02-17 05:41:22,571 : INFO : topic #1(1.476): -0.460*\"system\" + -0.373*\"user\" + -0.332*\"eps\" + -0.328*\"interface\" + -0.320*\"response\" + -0.320*\"time\" + -0.293*\"computer\" + -0.280*\"human\" + -0.171*\"survey\" + 0.161*\"trees\"\n"
     ]
    },
    {
     "data": {
      "text/plain": [
       "[(0,\n",
       "  '0.703*\"trees\" + 0.538*\"graph\" + 0.402*\"minors\" + 0.187*\"survey\" + 0.061*\"system\" + 0.060*\"response\" + 0.060*\"time\" + 0.058*\"user\" + 0.049*\"computer\" + 0.035*\"interface\"'),\n",
       " (1,\n",
       "  '-0.460*\"system\" + -0.373*\"user\" + -0.332*\"eps\" + -0.328*\"interface\" + -0.320*\"response\" + -0.320*\"time\" + -0.293*\"computer\" + -0.280*\"human\" + -0.171*\"survey\" + 0.161*\"trees\"')]"
      ]
     },
     "execution_count": 19,
     "metadata": {},
     "output_type": "execute_result"
    }
   ],
   "source": [
    "lsi_model.print_topics(2)"
   ]
  },
  {
   "cell_type": "code",
   "execution_count": 20,
   "id": "ancient-mozambique",
   "metadata": {},
   "outputs": [
    {
     "name": "stdout",
     "output_type": "stream",
     "text": [
      "[(0, 0.06600783396090323), (1, -0.520070330636184)] Human machine interface for lab abc computer applications\n",
      "[(0, 0.1966759285914236), (1, -0.7609563167700051)] A survey of user opinion of computer system response time\n",
      "[(0, 0.08992639972446352), (1, -0.7241860626752508)] The EPS user interface management system\n",
      "[(0, 0.07585847652178093), (1, -0.6320551586003424)] System and human system engineering testing of EPS\n",
      "[(0, 0.10150299184980004), (1, -0.5737308483002961)] Relation of user perceived response time to error measurement\n",
      "[(0, 0.7032108939378316), (1, 0.16115180214025696)] The generation of random binary unordered trees\n",
      "[(0, 0.8774787673119835), (1, 0.16758906864659287)] The intersection graph of paths in trees\n",
      "[(0, 0.9098624686818578), (1, 0.14086553628718884)] Graph minors IV Widths of trees and well quasi ordering\n",
      "[(0, 0.6165825350569276), (1, -0.05392907566389467)] Graph minors A survey\n"
     ]
    }
   ],
   "source": [
    "# both bow->tfidf and tfidf->lsi transformations are actually executed here, on the fly\n",
    "for doc, as_text in zip(corpus_lsi, documents):\n",
    "    print(doc, as_text)"
   ]
  },
  {
   "cell_type": "code",
   "execution_count": 21,
   "id": "known-craft",
   "metadata": {},
   "outputs": [],
   "source": [
    "import os\n",
    "import tempfile"
   ]
  },
  {
   "cell_type": "code",
   "execution_count": 34,
   "id": "facial-intervention",
   "metadata": {},
   "outputs": [
    {
     "name": "stderr",
     "output_type": "stream",
     "text": [
      "2021-02-17 05:59:18,263 : INFO : saving Projection object under /var/folders/vf/m4p5jj9s07x4v_df3mgg2fv40000gn/T/model-7zmhc_t0.lsi.projection, separately None\n",
      "2021-02-17 05:59:18,267 : INFO : saved /var/folders/vf/m4p5jj9s07x4v_df3mgg2fv40000gn/T/model-7zmhc_t0.lsi.projection\n",
      "2021-02-17 05:59:18,268 : INFO : saving LsiModel object under /var/folders/vf/m4p5jj9s07x4v_df3mgg2fv40000gn/T/model-7zmhc_t0.lsi, separately None\n",
      "2021-02-17 05:59:18,270 : INFO : not storing attribute projection\n",
      "2021-02-17 05:59:18,271 : INFO : not storing attribute dispatcher\n",
      "2021-02-17 05:59:18,274 : INFO : saved /var/folders/vf/m4p5jj9s07x4v_df3mgg2fv40000gn/T/model-7zmhc_t0.lsi\n"
     ]
    }
   ],
   "source": [
    "with tempfile.NamedTemporaryFile(prefix='model-', suffix='.lsi', delete=False) as tmp:\n",
    "    lsi_model.save(tmp.name)  # same for tfidf, lda, ..."
   ]
  },
  {
   "cell_type": "code",
   "execution_count": 35,
   "id": "differential-giant",
   "metadata": {},
   "outputs": [
    {
     "name": "stderr",
     "output_type": "stream",
     "text": [
      "2021-02-17 05:59:47,981 : INFO : loading LsiModel object from /var/folders/vf/m4p5jj9s07x4v_df3mgg2fv40000gn/T/model-7zmhc_t0.lsi\n",
      "2021-02-17 05:59:47,985 : INFO : loading id2word recursively from /var/folders/vf/m4p5jj9s07x4v_df3mgg2fv40000gn/T/model-7zmhc_t0.lsi.id2word.* with mmap=None\n",
      "2021-02-17 05:59:47,987 : INFO : setting ignored attribute projection to None\n",
      "2021-02-17 05:59:47,988 : INFO : setting ignored attribute dispatcher to None\n",
      "2021-02-17 05:59:47,990 : INFO : loaded /var/folders/vf/m4p5jj9s07x4v_df3mgg2fv40000gn/T/model-7zmhc_t0.lsi\n",
      "2021-02-17 05:59:47,991 : INFO : loading LsiModel object from /var/folders/vf/m4p5jj9s07x4v_df3mgg2fv40000gn/T/model-7zmhc_t0.lsi.projection\n",
      "2021-02-17 05:59:47,994 : INFO : loaded /var/folders/vf/m4p5jj9s07x4v_df3mgg2fv40000gn/T/model-7zmhc_t0.lsi.projection\n"
     ]
    }
   ],
   "source": [
    "loaded_lsi_model = models.LsiModel.load(tmp.name)"
   ]
  },
  {
   "cell_type": "code",
   "execution_count": 36,
   "id": "numeric-henry",
   "metadata": {},
   "outputs": [],
   "source": [
    "os.unlink(tmp.name)"
   ]
  },
  {
   "cell_type": "code",
   "execution_count": null,
   "id": "outer-import",
   "metadata": {},
   "outputs": [],
   "source": []
  }
 ],
 "metadata": {
  "kernelspec": {
   "display_name": "Python 3",
   "language": "python",
   "name": "python3"
  },
  "language_info": {
   "codemirror_mode": {
    "name": "ipython",
    "version": 3
   },
   "file_extension": ".py",
   "mimetype": "text/x-python",
   "name": "python",
   "nbconvert_exporter": "python",
   "pygments_lexer": "ipython3",
   "version": "3.8.7"
  }
 },
 "nbformat": 4,
 "nbformat_minor": 5
}

{
 "cells": [
  {
   "cell_type": "code",
   "execution_count": 1,
   "id": "fatal-assets",
   "metadata": {},
   "outputs": [],
   "source": [
    "import spacy\n",
    "from spacy.language import Language\n",
    "from spacy.tokens import Doc"
   ]
  },
  {
   "cell_type": "code",
   "execution_count": 2,
   "id": "lightweight-diagram",
   "metadata": {},
   "outputs": [],
   "source": [
    "@Language.factory(\"bag_of_words\")\n",
    "def create_bag_of_words(nlp, name):\n",
    "    return BagOfWords(nlp)\n",
    "\n",
    "class BagOfWords:\n",
    "    def __init__(self, nlp):\n",
    "        if not Doc.has_extension(\"bow\"):\n",
    "            Doc.set_extension(\"bow\", default=[])\n",
    "\n",
    "    def __call__(self, doc):\n",
    "        for token in self.simple_clean(doc):\n",
    "            doc._.bow.append(token)\n",
    "        return doc\n",
    "    \n",
    "    def simple_clean(self, doc):\n",
    "        '''\n",
    "        Removes stopwords and punctuation and \n",
    "        returns lemms using spaCy builtins\n",
    "        '''\n",
    "        for token in doc:\n",
    "            if not token.is_punct:\n",
    "                if not token.is_stop:\n",
    "                    yield token.lemma_"
   ]
  },
  {
   "cell_type": "code",
   "execution_count": 4,
   "id": "cutting-expression",
   "metadata": {},
   "outputs": [],
   "source": [
    "nlp = spacy.load(\"en_core_web_sm\")"
   ]
  },
  {
   "cell_type": "code",
   "execution_count": 5,
   "id": "standing-evans",
   "metadata": {},
   "outputs": [
    {
     "data": {
      "text/plain": [
       "<__main__.BagOfWords at 0x10275ab50>"
      ]
     },
     "execution_count": 5,
     "metadata": {},
     "output_type": "execute_result"
    }
   ],
   "source": [
    "nlp.add_pipe(\"bag_of_words\")"
   ]
  },
  {
   "cell_type": "code",
   "execution_count": 6,
   "id": "executed-question",
   "metadata": {},
   "outputs": [],
   "source": [
    "doc1 = nlp(\"Chocolate almonds are nice!\")"
   ]
  },
  {
   "cell_type": "code",
   "execution_count": 7,
   "id": "harmful-georgia",
   "metadata": {},
   "outputs": [
    {
     "data": {
      "text/plain": [
       "['chocolate', 'almond', 'nice']"
      ]
     },
     "execution_count": 7,
     "metadata": {},
     "output_type": "execute_result"
    }
   ],
   "source": [
    "doc1._.bow"
   ]
  },
  {
   "cell_type": "code",
   "execution_count": null,
   "id": "supreme-daniel",
   "metadata": {},
   "outputs": [],
   "source": []
  }
 ],
 "metadata": {
  "kernelspec": {
   "display_name": "Python 3",
   "language": "python",
   "name": "python3"
  },
  "language_info": {
   "codemirror_mode": {
    "name": "ipython",
    "version": 3
   },
   "file_extension": ".py",
   "mimetype": "text/x-python",
   "name": "python",
   "nbconvert_exporter": "python",
   "pygments_lexer": "ipython3",
   "version": "3.8.7"
  }
 },
 "nbformat": 4,
 "nbformat_minor": 5
}

{
 "cells": [
  {
   "cell_type": "code",
   "execution_count": null,
   "id": "uniform-flight",
   "metadata": {},
   "outputs": [],
   "source": [
    "import spacy"
   ]
  },
  {
   "cell_type": "code",
   "execution_count": null,
   "id": "special-gibson",
   "metadata": {},
   "outputs": [],
   "source": [
    "nlp = spacy.load(\"en_core_web_sm\")"
   ]
  },
  {
   "cell_type": "code",
   "execution_count": null,
   "id": "dressed-likelihood",
   "metadata": {},
   "outputs": [],
   "source": [
    "nlp"
   ]
  },
  {
   "cell_type": "code",
   "execution_count": null,
   "id": "dutch-walter",
   "metadata": {},
   "outputs": [],
   "source": [
    "doc = nlp(\"She. Ate the pizza\")"
   ]
  },
  {
   "cell_type": "code",
   "execution_count": null,
   "id": "obvious-england",
   "metadata": {},
   "outputs": [],
   "source": [
    "for token in doc:\n",
    "    print(token.text)"
   ]
  },
  {
   "cell_type": "code",
   "execution_count": null,
   "id": "arctic-issue",
   "metadata": {},
   "outputs": [],
   "source": [
    "dir(nlp)"
   ]
  },
  {
   "cell_type": "code",
   "execution_count": null,
   "id": "killing-tourism",
   "metadata": {},
   "outputs": [],
   "source": [
    "nlp._pipe_meta"
   ]
  },
  {
   "cell_type": "code",
   "execution_count": null,
   "id": "classical-ottawa",
   "metadata": {},
   "outputs": [],
   "source": []
  }
 ],
 "metadata": {
  "kernelspec": {
   "display_name": "Python 3",
   "language": "python",
   "name": "python3"
  },
  "language_info": {
   "codemirror_mode": {
    "name": "ipython",
    "version": 3
   },
   "file_extension": ".py",
   "mimetype": "text/x-python",
   "name": "python",
   "nbconvert_exporter": "python",
   "pygments_lexer": "ipython3",
   "version": "3.8.7"
  }
 },
 "nbformat": 4,
 "nbformat_minor": 5
}

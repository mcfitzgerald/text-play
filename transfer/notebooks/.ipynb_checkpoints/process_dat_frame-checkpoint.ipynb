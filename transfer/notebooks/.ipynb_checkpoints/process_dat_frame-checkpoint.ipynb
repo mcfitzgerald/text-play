{
 "cells": [
  {
   "cell_type": "code",
   "execution_count": 1,
   "id": "recovered-holly",
   "metadata": {},
   "outputs": [],
   "source": [
    "import pandas as pd"
   ]
  },
  {
   "cell_type": "code",
   "execution_count": 2,
   "id": "funky-ladder",
   "metadata": {},
   "outputs": [],
   "source": [
    "df = pd.read_csv(\"../sr_quora_data.csv\")"
   ]
  },
  {
   "cell_type": "code",
   "execution_count": 4,
   "id": "improving-collaboration",
   "metadata": {},
   "outputs": [],
   "source": [
    "import spacy"
   ]
  },
  {
   "cell_type": "code",
   "execution_count": 5,
   "id": "victorian-eclipse",
   "metadata": {},
   "outputs": [],
   "source": [
    "import bow_component"
   ]
  },
  {
   "cell_type": "code",
   "execution_count": 6,
   "id": "typical-blast",
   "metadata": {},
   "outputs": [],
   "source": [
    "nlp = spacy.load(\"en_core_web_sm\")"
   ]
  },
  {
   "cell_type": "code",
   "execution_count": 7,
   "id": "popular-medline",
   "metadata": {},
   "outputs": [
    {
     "data": {
      "text/plain": [
       "<bow_component.BagOfWords at 0x12430ee50>"
      ]
     },
     "execution_count": 7,
     "metadata": {},
     "output_type": "execute_result"
    }
   ],
   "source": [
    "nlp.add_pipe(\"bag_of_words\")"
   ]
  },
  {
   "cell_type": "code",
   "execution_count": 11,
   "id": "speaking-maria",
   "metadata": {},
   "outputs": [],
   "source": [
    "import numpy as np"
   ]
  },
  {
   "cell_type": "code",
   "execution_count": 18,
   "id": "atomic-technician",
   "metadata": {},
   "outputs": [],
   "source": [
    "def make_bow(text):\n",
    "    try:\n",
    "        bow = nlp(text)._.bow\n",
    "    except:\n",
    "        bow = np.nan\n",
    "        print(f\"exception: can't process value: {text}\")\n",
    "    return bow"
   ]
  },
  {
   "cell_type": "code",
   "execution_count": 21,
   "id": "experimental-latvia",
   "metadata": {},
   "outputs": [
    {
     "name": "stdout",
     "output_type": "stream",
     "text": [
      "exception: can't process value: nan\n"
     ]
    }
   ],
   "source": [
    "df['bow'] = df['answer'].apply(make_bow)"
   ]
  },
  {
   "cell_type": "code",
   "execution_count": 23,
   "id": "political-allergy",
   "metadata": {},
   "outputs": [
    {
     "data": {
      "text/html": [
       "<div>\n",
       "<style scoped>\n",
       "    .dataframe tbody tr th:only-of-type {\n",
       "        vertical-align: middle;\n",
       "    }\n",
       "\n",
       "    .dataframe tbody tr th {\n",
       "        vertical-align: top;\n",
       "    }\n",
       "\n",
       "    .dataframe thead th {\n",
       "        text-align: right;\n",
       "    }\n",
       "</style>\n",
       "<table border=\"1\" class=\"dataframe\">\n",
       "  <thead>\n",
       "    <tr style=\"text-align: right;\">\n",
       "      <th></th>\n",
       "      <th>Unnamed: 0</th>\n",
       "      <th>question</th>\n",
       "      <th>date</th>\n",
       "      <th>views</th>\n",
       "      <th>upvotes</th>\n",
       "      <th>answer</th>\n",
       "      <th>bow</th>\n",
       "    </tr>\n",
       "  </thead>\n",
       "  <tbody>\n",
       "    <tr>\n",
       "      <th>0</th>\n",
       "      <td>0</td>\n",
       "      <td>Have-you-ever-experienced-racism-from-a-liberal</td>\n",
       "      <td>2018-11-13 22:33:07</td>\n",
       "      <td>7069</td>\n",
       "      <td>1305</td>\n",
       "      <td>Any time I've heard: “Only white people can be...</td>\n",
       "      <td>[time, hear, white, people, racist, enjoy, whi...</td>\n",
       "    </tr>\n",
       "    <tr>\n",
       "      <th>1</th>\n",
       "      <td>1</td>\n",
       "      <td>What-are-some-examples-of-institutional-racism...</td>\n",
       "      <td>2017-11-29 20:23:33</td>\n",
       "      <td>31046</td>\n",
       "      <td>2150</td>\n",
       "      <td>First, I want to check the dictionary to make ...</td>\n",
       "      <td>[want, check, dictionary, sure, institutional,...</td>\n",
       "    </tr>\n",
       "    <tr>\n",
       "      <th>2</th>\n",
       "      <td>2</td>\n",
       "      <td>What-are-some-examples-of-systemic-racism</td>\n",
       "      <td>2020-06-27 05:50:52</td>\n",
       "      <td>20767</td>\n",
       "      <td>826</td>\n",
       "      <td>Warning— This answer would be somewhat unconve...</td>\n",
       "      <td>[warning, answer, somewhat, unconventional, un...</td>\n",
       "    </tr>\n",
       "    <tr>\n",
       "      <th>3</th>\n",
       "      <td>3</td>\n",
       "      <td>Do-you-agree-that-black-people-cant-be-racist-...</td>\n",
       "      <td>2017-04-02 21:32:09</td>\n",
       "      <td>32585</td>\n",
       "      <td>2382</td>\n",
       "      <td>No. Not only do I disagree; I actually find th...</td>\n",
       "      <td>[disagree, actually, find, extremely, insultin...</td>\n",
       "    </tr>\n",
       "    <tr>\n",
       "      <th>4</th>\n",
       "      <td>4</td>\n",
       "      <td>Is-Indias-perception-of-the-caste-system-simil...</td>\n",
       "      <td>2017-09-08 02:46:39</td>\n",
       "      <td>47067</td>\n",
       "      <td>2325</td>\n",
       "      <td>In the US, racism is quite literally black and...</td>\n",
       "      <td>[racism, literally, black, white, black, ances...</td>\n",
       "    </tr>\n",
       "  </tbody>\n",
       "</table>\n",
       "</div>"
      ],
      "text/plain": [
       "   Unnamed: 0                                           question  \\\n",
       "0           0    Have-you-ever-experienced-racism-from-a-liberal   \n",
       "1           1  What-are-some-examples-of-institutional-racism...   \n",
       "2           2          What-are-some-examples-of-systemic-racism   \n",
       "3           3  Do-you-agree-that-black-people-cant-be-racist-...   \n",
       "4           4  Is-Indias-perception-of-the-caste-system-simil...   \n",
       "\n",
       "                  date  views  upvotes  \\\n",
       "0  2018-11-13 22:33:07   7069     1305   \n",
       "1  2017-11-29 20:23:33  31046     2150   \n",
       "2  2020-06-27 05:50:52  20767      826   \n",
       "3  2017-04-02 21:32:09  32585     2382   \n",
       "4  2017-09-08 02:46:39  47067     2325   \n",
       "\n",
       "                                              answer  \\\n",
       "0  Any time I've heard: “Only white people can be...   \n",
       "1  First, I want to check the dictionary to make ...   \n",
       "2  Warning— This answer would be somewhat unconve...   \n",
       "3  No. Not only do I disagree; I actually find th...   \n",
       "4  In the US, racism is quite literally black and...   \n",
       "\n",
       "                                                 bow  \n",
       "0  [time, hear, white, people, racist, enjoy, whi...  \n",
       "1  [want, check, dictionary, sure, institutional,...  \n",
       "2  [warning, answer, somewhat, unconventional, un...  \n",
       "3  [disagree, actually, find, extremely, insultin...  \n",
       "4  [racism, literally, black, white, black, ances...  "
      ]
     },
     "execution_count": 23,
     "metadata": {},
     "output_type": "execute_result"
    }
   ],
   "source": [
    "df.head()"
   ]
  },
  {
   "cell_type": "code",
   "execution_count": 24,
   "id": "upper-american",
   "metadata": {},
   "outputs": [
    {
     "data": {
      "text/plain": [
       "0     [time, hear, white, people, racist, enjoy, whi...\n",
       "1     [want, check, dictionary, sure, institutional,...\n",
       "2     [warning, answer, somewhat, unconventional, un...\n",
       "3     [disagree, actually, find, extremely, insultin...\n",
       "4     [racism, literally, black, white, black, ances...\n",
       "                            ...                        \n",
       "95    [misconception, white, people, face, racism, m...\n",
       "96    [big, Ontario, size, american, Texas, sized, c...\n",
       "97    [patient, remember, second, year, training, wh...\n",
       "98    [drive, antifa, drive, systemic, toxic, racism...\n",
       "99    [Hahahaha, racist, asshat, pretend, racist, as...\n",
       "Name: bow, Length: 100, dtype: object"
      ]
     },
     "execution_count": 24,
     "metadata": {},
     "output_type": "execute_result"
    }
   ],
   "source": [
    "df['bow']"
   ]
  },
  {
   "cell_type": "code",
   "execution_count": 25,
   "id": "electoral-atlantic",
   "metadata": {},
   "outputs": [],
   "source": [
    "import gensim"
   ]
  },
  {
   "cell_type": "code",
   "execution_count": 29,
   "id": "acting-model",
   "metadata": {},
   "outputs": [],
   "source": [
    "import importlib"
   ]
  },
  {
   "cell_type": "code",
   "execution_count": 30,
   "id": "nervous-ranch",
   "metadata": {},
   "outputs": [
    {
     "data": {
      "text/plain": [
       "<module 'gensim' from '/Users/michael/Documents/GitHub/text-play/venv/lib/python3.8/site-packages/gensim/__init__.py'>"
      ]
     },
     "execution_count": 30,
     "metadata": {},
     "output_type": "execute_result"
    }
   ],
   "source": [
    "importlib.reload(gensim)"
   ]
  },
  {
   "cell_type": "code",
   "execution_count": 33,
   "id": "musical-compatibility",
   "metadata": {},
   "outputs": [
    {
     "data": {
      "text/plain": [
       "'4.0.0beta'"
      ]
     },
     "execution_count": 33,
     "metadata": {},
     "output_type": "execute_result"
    }
   ],
   "source": [
    "gensim.__version__"
   ]
  },
  {
   "cell_type": "code",
   "execution_count": null,
   "id": "unsigned-september",
   "metadata": {},
   "outputs": [],
   "source": []
  }
 ],
 "metadata": {
  "kernelspec": {
   "display_name": "Python 3",
   "language": "python",
   "name": "python3"
  },
  "language_info": {
   "codemirror_mode": {
    "name": "ipython",
    "version": 3
   },
   "file_extension": ".py",
   "mimetype": "text/x-python",
   "name": "python",
   "nbconvert_exporter": "python",
   "pygments_lexer": "ipython3",
   "version": "3.8.7"
  }
 },
 "nbformat": 4,
 "nbformat_minor": 5
}

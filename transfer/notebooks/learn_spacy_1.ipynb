{
 "cells": [
  {
   "cell_type": "code",
   "execution_count": 1,
   "id": "impressed-balance",
   "metadata": {},
   "outputs": [],
   "source": [
    "from spacy.lang.en import English"
   ]
  },
  {
   "cell_type": "code",
   "execution_count": 2,
   "id": "saving-modeling",
   "metadata": {},
   "outputs": [],
   "source": [
    "nlp = English()"
   ]
  },
  {
   "cell_type": "code",
   "execution_count": null,
   "id": "acceptable-proportion",
   "metadata": {},
   "outputs": [],
   "source": []
  },
  {
   "cell_type": "code",
   "execution_count": null,
   "id": "comparative-camping",
   "metadata": {},
   "outputs": [],
   "source": [
    "doc = nlp(\"This is a sentence\")"
   ]
  },
  {
   "cell_type": "code",
   "execution_count": null,
   "id": "downtown-trinidad",
   "metadata": {},
   "outputs": [],
   "source": [
    "print(doc.text)"
   ]
  },
  {
   "cell_type": "code",
   "execution_count": null,
   "id": "ranking-explosion",
   "metadata": {},
   "outputs": [],
   "source": [
    "doc[0]"
   ]
  },
  {
   "cell_type": "code",
   "execution_count": null,
   "id": "italic-counter",
   "metadata": {},
   "outputs": [],
   "source": [
    "doc = nlp(\n",
    "    \"In 1990, more than 60% of people in East Asia were in extreme poverty. \"\n",
    "    \"Now less than 4% are.\"\n",
    ")"
   ]
  },
  {
   "cell_type": "code",
   "execution_count": null,
   "id": "obvious-creator",
   "metadata": {},
   "outputs": [],
   "source": [
    "for i in doc:\n",
    "    print(i.i)"
   ]
  },
  {
   "cell_type": "code",
   "execution_count": null,
   "id": "flexible-tuner",
   "metadata": {},
   "outputs": [],
   "source": []
  }
 ],
 "metadata": {
  "kernelspec": {
   "display_name": "Python 3",
   "language": "python",
   "name": "python3"
  },
  "language_info": {
   "codemirror_mode": {
    "name": "ipython",
    "version": 3
   },
   "file_extension": ".py",
   "mimetype": "text/x-python",
   "name": "python",
   "nbconvert_exporter": "python",
   "pygments_lexer": "ipython3",
   "version": "3.9.1"
  }
 },
 "nbformat": 4,
 "nbformat_minor": 5
}

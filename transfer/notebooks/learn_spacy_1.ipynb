{
 "cells": [
  {
   "cell_type": "code",
   "execution_count": 1,
   "id": "uniform-flight",
   "metadata": {},
   "outputs": [],
   "source": [
    "import spacy"
   ]
  },
  {
   "cell_type": "code",
   "execution_count": 2,
   "id": "special-gibson",
   "metadata": {},
   "outputs": [],
   "source": [
    "nlp = spacy.load(\"en_core_web_sm\")"
   ]
  },
  {
   "cell_type": "code",
   "execution_count": 3,
   "id": "dressed-likelihood",
   "metadata": {},
   "outputs": [
    {
     "data": {
      "text/plain": [
       "<spacy.lang.en.English at 0x108b907c0>"
      ]
     },
     "execution_count": 3,
     "metadata": {},
     "output_type": "execute_result"
    }
   ],
   "source": [
    "nlp"
   ]
  },
  {
   "cell_type": "code",
   "execution_count": 6,
   "id": "dutch-walter",
   "metadata": {},
   "outputs": [],
   "source": [
    "doc = nlp(\"She. Ate the pizza\")"
   ]
  },
  {
   "cell_type": "code",
   "execution_count": 7,
   "id": "obvious-england",
   "metadata": {},
   "outputs": [
    {
     "name": "stdout",
     "output_type": "stream",
     "text": [
      "She\n",
      ".\n",
      "Ate\n",
      "the\n",
      "pizza\n"
     ]
    }
   ],
   "source": [
    "for token in doc:\n",
    "    print(token.text)"
   ]
  },
  {
   "cell_type": "code",
   "execution_count": 8,
   "id": "arctic-issue",
   "metadata": {},
   "outputs": [
    {
     "data": {
      "text/plain": [
       "['Defaults',\n",
       " '__annotations__',\n",
       " '__call__',\n",
       " '__class__',\n",
       " '__delattr__',\n",
       " '__dict__',\n",
       " '__dir__',\n",
       " '__doc__',\n",
       " '__eq__',\n",
       " '__format__',\n",
       " '__ge__',\n",
       " '__getattribute__',\n",
       " '__gt__',\n",
       " '__hash__',\n",
       " '__init__',\n",
       " '__init_subclass__',\n",
       " '__le__',\n",
       " '__lt__',\n",
       " '__module__',\n",
       " '__ne__',\n",
       " '__new__',\n",
       " '__reduce__',\n",
       " '__reduce_ex__',\n",
       " '__repr__',\n",
       " '__setattr__',\n",
       " '__sizeof__',\n",
       " '__str__',\n",
       " '__subclasshook__',\n",
       " '__weakref__',\n",
       " '_components',\n",
       " '_config',\n",
       " '_disabled',\n",
       " '_factory_meta',\n",
       " '_get_pipe_index',\n",
       " '_link_components',\n",
       " '_meta',\n",
       " '_multiprocessing_pipe',\n",
       " '_optimizer',\n",
       " '_path',\n",
       " '_pipe_configs',\n",
       " '_pipe_meta',\n",
       " 'add_pipe',\n",
       " 'analyze_pipes',\n",
       " 'batch_size',\n",
       " 'begin_training',\n",
       " 'component',\n",
       " 'component_names',\n",
       " 'components',\n",
       " 'config',\n",
       " 'create_optimizer',\n",
       " 'create_pipe',\n",
       " 'create_pipe_from_source',\n",
       " 'default_config',\n",
       " 'default_error_handler',\n",
       " 'disable_pipe',\n",
       " 'disable_pipes',\n",
       " 'disabled',\n",
       " 'enable_pipe',\n",
       " 'evaluate',\n",
       " 'factories',\n",
       " 'factory',\n",
       " 'factory_names',\n",
       " 'from_bytes',\n",
       " 'from_config',\n",
       " 'from_disk',\n",
       " 'get_factory_meta',\n",
       " 'get_factory_name',\n",
       " 'get_pipe',\n",
       " 'get_pipe_config',\n",
       " 'get_pipe_meta',\n",
       " 'has_factory',\n",
       " 'has_pipe',\n",
       " 'initialize',\n",
       " 'lang',\n",
       " 'make_doc',\n",
       " 'max_length',\n",
       " 'meta',\n",
       " 'path',\n",
       " 'pipe',\n",
       " 'pipe_factories',\n",
       " 'pipe_labels',\n",
       " 'pipe_names',\n",
       " 'pipeline',\n",
       " 'rehearse',\n",
       " 'remove_pipe',\n",
       " 'rename_pipe',\n",
       " 'replace_listeners',\n",
       " 'replace_pipe',\n",
       " 'resume_training',\n",
       " 'select_pipes',\n",
       " 'set_error_handler',\n",
       " 'set_factory_meta',\n",
       " 'to_bytes',\n",
       " 'to_disk',\n",
       " 'tokenizer',\n",
       " 'update',\n",
       " 'use_params',\n",
       " 'vocab']"
      ]
     },
     "execution_count": 8,
     "metadata": {},
     "output_type": "execute_result"
    }
   ],
   "source": [
    "dir(nlp)"
   ]
  },
  {
   "cell_type": "code",
   "execution_count": 17,
   "id": "killing-tourism",
   "metadata": {},
   "outputs": [
    {
     "data": {
      "text/plain": [
       "{'tok2vec': FactoryMeta(factory='tok2vec', default_config={'model': {'@architectures': 'spacy.HashEmbedCNN.v1', 'pretrained_vectors': None, 'width': 96, 'depth': 4, 'embed_size': 2000, 'window_size': 1, 'maxout_pieces': 3, 'subword_features': True}}, assigns=['doc.tensor'], requires=[], retokenizes=False, scores=[], default_score_weights={}),\n",
       " 'tagger': FactoryMeta(factory='tagger', default_config={'model': {'@architectures': 'spacy.Tagger.v1', 'tok2vec': {'@architectures': 'spacy.HashEmbedCNN.v1', 'pretrained_vectors': None, 'width': 96, 'depth': 4, 'embed_size': 2000, 'window_size': 1, 'maxout_pieces': 3, 'subword_features': True}}}, assigns=['token.tag'], requires=[], retokenizes=False, scores=['tag_acc'], default_score_weights={'tag_acc': 1.0}),\n",
       " 'parser': FactoryMeta(factory='parser', default_config={'moves': None, 'update_with_oracle_cut_size': 100, 'learn_tokens': False, 'min_action_freq': 30, 'model': {'@architectures': 'spacy.TransitionBasedParser.v2', 'state_type': 'parser', 'extra_state_tokens': False, 'hidden_width': 64, 'maxout_pieces': 2, 'use_upper': True, 'tok2vec': {'@architectures': 'spacy.HashEmbedCNN.v1', 'pretrained_vectors': None, 'width': 96, 'depth': 4, 'embed_size': 2000, 'window_size': 1, 'maxout_pieces': 3, 'subword_features': True}}}, assigns=['token.dep', 'token.head', 'token.is_sent_start', 'doc.sents'], requires=[], retokenizes=False, scores=['dep_uas', 'dep_las', 'dep_las_per_type', 'sents_p', 'sents_r', 'sents_f'], default_score_weights={'dep_uas': 0.5, 'dep_las': 0.5, 'dep_las_per_type': None, 'sents_p': None, 'sents_r': None, 'sents_f': 0.0}),\n",
       " 'senter': FactoryMeta(factory='senter', default_config={'model': {'@architectures': 'spacy.Tagger.v1', 'tok2vec': {'@architectures': 'spacy.HashEmbedCNN.v1', 'pretrained_vectors': None, 'width': 12, 'depth': 1, 'embed_size': 2000, 'window_size': 1, 'maxout_pieces': 2, 'subword_features': True}}}, assigns=['token.is_sent_start'], requires=[], retokenizes=False, scores=['sents_f', 'sents_p', 'sents_r'], default_score_weights={'sents_f': 1.0, 'sents_p': 0.0, 'sents_r': 0.0}),\n",
       " 'ner': FactoryMeta(factory='ner', default_config={'moves': None, 'update_with_oracle_cut_size': 100, 'model': {'@architectures': 'spacy.TransitionBasedParser.v2', 'state_type': 'ner', 'extra_state_tokens': False, 'hidden_width': 64, 'maxout_pieces': 2, 'use_upper': True, 'tok2vec': {'@architectures': 'spacy.HashEmbedCNN.v1', 'pretrained_vectors': None, 'width': 96, 'depth': 4, 'embed_size': 2000, 'window_size': 1, 'maxout_pieces': 3, 'subword_features': True}}}, assigns=['doc.ents', 'token.ent_iob', 'token.ent_type'], requires=[], retokenizes=False, scores=['ents_f', 'ents_p', 'ents_r', 'ents_per_type'], default_score_weights={'ents_f': 1.0, 'ents_p': 0.0, 'ents_r': 0.0, 'ents_per_type': None}),\n",
       " 'attribute_ruler': FactoryMeta(factory='attribute_ruler', default_config={'validate': False}, assigns=[], requires=[], retokenizes=False, scores=[], default_score_weights={}),\n",
       " 'lemmatizer': FactoryMeta(factory='lemmatizer', default_config={'model': None, 'mode': 'rule', 'overwrite': False}, assigns=['token.lemma'], requires=[], retokenizes=False, scores=['lemma_acc'], default_score_weights={'lemma_acc': 1.0})}"
      ]
     },
     "execution_count": 17,
     "metadata": {},
     "output_type": "execute_result"
    }
   ],
   "source": [
    "nlp._pipe_meta"
   ]
  },
  {
   "cell_type": "code",
   "execution_count": null,
   "id": "classical-ottawa",
   "metadata": {},
   "outputs": [],
   "source": []
  }
 ],
 "metadata": {
  "kernelspec": {
   "display_name": "Python 3",
   "language": "python",
   "name": "python3"
  },
  "language_info": {
   "codemirror_mode": {
    "name": "ipython",
    "version": 3
   },
   "file_extension": ".py",
   "mimetype": "text/x-python",
   "name": "python",
   "nbconvert_exporter": "python",
   "pygments_lexer": "ipython3",
   "version": "3.8.7"
  }
 },
 "nbformat": 4,
 "nbformat_minor": 5
}

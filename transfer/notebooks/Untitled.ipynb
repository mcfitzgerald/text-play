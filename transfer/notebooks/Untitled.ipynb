{
 "cells": [
  {
   "cell_type": "code",
   "execution_count": 1,
   "id": "metropolitan-thunder",
   "metadata": {},
   "outputs": [],
   "source": [
    "from spacy.language import Language\n",
    "from spacy.tokens import Doc\n",
    "from spacy.matcher import PhraseMatcher\n",
    "import spacy"
   ]
  },
  {
   "cell_type": "code",
   "execution_count": 2,
   "id": "precious-preview",
   "metadata": {},
   "outputs": [],
   "source": [
    "DICTIONARY = {\"lol\": \"laughing out loud\", \"brb\": \"be right back\"}\n",
    "DICTIONARY.update({value: key for key, value in DICTIONARY.items()})"
   ]
  },
  {
   "cell_type": "code",
   "execution_count": 3,
   "id": "exciting-ozone",
   "metadata": {},
   "outputs": [],
   "source": [
    "@Language.factory(\"acronyms\", default_config={\"case_sensitive\": False})\n",
    "def create_acronym_component(nlp: Language, name: str, case_sensitive: bool):\n",
    "    return AcronymComponent(nlp, case_sensitive)"
   ]
  },
  {
   "cell_type": "code",
   "execution_count": 4,
   "id": "surprising-place",
   "metadata": {},
   "outputs": [],
   "source": [
    "class AcronymComponent:\n",
    "    def __init__(self, nlp: Language, case_sensitive: bool):\n",
    "        # Create the matcher and match on Token.lower if case-insensitive\n",
    "        matcher_attr = \"TEXT\" if case_sensitive else \"LOWER\"\n",
    "        self.matcher = PhraseMatcher(nlp.vocab, attr=matcher_attr)\n",
    "        self.matcher.add(\"ACRONYMS\", [nlp.make_doc(term) for term in DICTIONARY])\n",
    "        self.case_sensitive = case_sensitive\n",
    "        # Register custom extension on the Doc\n",
    "        if not Doc.has_extension(\"acronyms\"):\n",
    "            Doc.set_extension(\"acronyms\", default=[])\n",
    "\n",
    "    def __call__(self, doc: Doc) -> Doc:\n",
    "        # Add the matched spans when doc is processed\n",
    "        for _, start, end in self.matcher(doc):\n",
    "            span = doc[start:end]\n",
    "            acronym = DICTIONARY.get(span.text if self.case_sensitive else span.text.lower())\n",
    "            doc._.acronyms.append((span, acronym))\n",
    "        return doc"
   ]
  },
  {
   "cell_type": "code",
   "execution_count": 5,
   "id": "close-external",
   "metadata": {},
   "outputs": [],
   "source": [
    "nlp = spacy.blank(\"en\")"
   ]
  },
  {
   "cell_type": "code",
   "execution_count": 6,
   "id": "imported-financing",
   "metadata": {},
   "outputs": [
    {
     "data": {
      "text/plain": [
       "[]"
      ]
     },
     "execution_count": 6,
     "metadata": {},
     "output_type": "execute_result"
    }
   ],
   "source": [
    "nlp.pipeline"
   ]
  },
  {
   "cell_type": "code",
   "execution_count": 7,
   "id": "upper-cincinnati",
   "metadata": {},
   "outputs": [
    {
     "data": {
      "text/plain": [
       "<__main__.AcronymComponent at 0x120b560a0>"
      ]
     },
     "execution_count": 7,
     "metadata": {},
     "output_type": "execute_result"
    }
   ],
   "source": [
    "nlp.add_pipe(\"acronyms\", config={\"case_sensitive\": False})"
   ]
  },
  {
   "cell_type": "code",
   "execution_count": 8,
   "id": "optical-monthly",
   "metadata": {},
   "outputs": [
    {
     "data": {
      "text/plain": [
       "[('acronyms', <__main__.AcronymComponent at 0x120b560a0>)]"
      ]
     },
     "execution_count": 8,
     "metadata": {},
     "output_type": "execute_result"
    }
   ],
   "source": [
    "nlp.pipeline"
   ]
  },
  {
   "cell_type": "code",
   "execution_count": 9,
   "id": "funky-consultation",
   "metadata": {},
   "outputs": [],
   "source": [
    "doc = nlp(\"LOL, be right back\")"
   ]
  },
  {
   "cell_type": "code",
   "execution_count": 11,
   "id": "rotary-adams",
   "metadata": {},
   "outputs": [
    {
     "data": {
      "text/plain": [
       "[(LOL, 'laughing out loud'), (be right back, 'brb')]"
      ]
     },
     "execution_count": 11,
     "metadata": {},
     "output_type": "execute_result"
    }
   ],
   "source": [
    "doc._.acronyms"
   ]
  },
  {
   "cell_type": "code",
   "execution_count": null,
   "id": "urban-relaxation",
   "metadata": {},
   "outputs": [],
   "source": []
  }
 ],
 "metadata": {
  "kernelspec": {
   "display_name": "Python 3",
   "language": "python",
   "name": "python3"
  },
  "language_info": {
   "codemirror_mode": {
    "name": "ipython",
    "version": 3
   },
   "file_extension": ".py",
   "mimetype": "text/x-python",
   "name": "python",
   "nbconvert_exporter": "python",
   "pygments_lexer": "ipython3",
   "version": "3.9.1"
  }
 },
 "nbformat": 4,
 "nbformat_minor": 5
}

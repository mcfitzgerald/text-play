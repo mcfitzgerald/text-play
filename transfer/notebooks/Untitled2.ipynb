{
 "cells": [
  {
   "cell_type": "code",
   "execution_count": 1,
   "id": "relative-translator",
   "metadata": {},
   "outputs": [],
   "source": [
    "from bow_component import create_bag_of_words"
   ]
  },
  {
   "cell_type": "code",
   "execution_count": 2,
   "id": "realistic-efficiency",
   "metadata": {},
   "outputs": [],
   "source": [
    "import spacy"
   ]
  },
  {
   "cell_type": "code",
   "execution_count": 3,
   "id": "disabled-healing",
   "metadata": {},
   "outputs": [],
   "source": [
    "nlp = spacy.load(\"en_core_web_sm\")"
   ]
  },
  {
   "cell_type": "code",
   "execution_count": 4,
   "id": "amazing-painting",
   "metadata": {},
   "outputs": [
    {
     "data": {
      "text/plain": [
       "<bow_component.BagOfWords at 0x11effd550>"
      ]
     },
     "execution_count": 4,
     "metadata": {},
     "output_type": "execute_result"
    }
   ],
   "source": [
    "nlp.add_pipe(\"bag_of_words\")"
   ]
  },
  {
   "cell_type": "code",
   "execution_count": 5,
   "id": "bright-mileage",
   "metadata": {},
   "outputs": [],
   "source": [
    "text = \"Looks like they are twins.\""
   ]
  },
  {
   "cell_type": "code",
   "execution_count": 7,
   "id": "based-genealogy",
   "metadata": {},
   "outputs": [],
   "source": [
    "doc = nlp(text)"
   ]
  },
  {
   "cell_type": "code",
   "execution_count": null,
   "id": "incorporated-emergency",
   "metadata": {},
   "outputs": [],
   "source": []
  }
 ],
 "metadata": {
  "kernelspec": {
   "display_name": "Python 3",
   "language": "python",
   "name": "python3"
  },
  "language_info": {
   "codemirror_mode": {
    "name": "ipython",
    "version": 3
   },
   "file_extension": ".py",
   "mimetype": "text/x-python",
   "name": "python",
   "nbconvert_exporter": "python",
   "pygments_lexer": "ipython3",
   "version": "3.9.1"
  }
 },
 "nbformat": 4,
 "nbformat_minor": 5
}

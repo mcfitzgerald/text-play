{
 "cells": [
  {
   "cell_type": "code",
   "execution_count": 1,
   "id": "corrected-netscape",
   "metadata": {},
   "outputs": [],
   "source": [
    "import utils.get_links as gl"
   ]
  },
  {
   "cell_type": "code",
   "execution_count": 2,
   "id": "graduate-ballet",
   "metadata": {},
   "outputs": [],
   "source": [
    "url = \"https://www.quora.com/search?q=systemic%20racism&type=answer\""
   ]
  },
  {
   "cell_type": "code",
   "execution_count": 3,
   "id": "macro-advocate",
   "metadata": {},
   "outputs": [
    {
     "name": "stdout",
     "output_type": "stream",
     "text": [
      "scrolling...\n",
      "scrolling...\n",
      "scrolling...\n",
      "scrolling...\n",
      "scrolling...\n",
      "scrolling...\n",
      "scrolling...\n",
      "scrolling...\n",
      "scrolling...\n",
      "scrolling...\n",
      "end of page reached\n"
     ]
    }
   ],
   "source": [
    "source = gl.get_source(url)"
   ]
  },
  {
   "cell_type": "code",
   "execution_count": 4,
   "id": "stable-midnight",
   "metadata": {},
   "outputs": [],
   "source": [
    "from bs4 import BeautifulSoup"
   ]
  },
  {
   "cell_type": "code",
   "execution_count": 5,
   "id": "acquired-series",
   "metadata": {},
   "outputs": [],
   "source": [
    "soup = BeautifulSoup(source,'lxml')"
   ]
  },
  {
   "cell_type": "code",
   "execution_count": null,
   "id": "large-latin",
   "metadata": {},
   "outputs": [],
   "source": []
  }
 ],
 "metadata": {
  "kernelspec": {
   "display_name": "Python 3",
   "language": "python",
   "name": "python3"
  },
  "language_info": {
   "codemirror_mode": {
    "name": "ipython",
    "version": 3
   },
   "file_extension": ".py",
   "mimetype": "text/x-python",
   "name": "python",
   "nbconvert_exporter": "python",
   "pygments_lexer": "ipython3",
   "version": "3.8.7"
  }
 },
 "nbformat": 4,
 "nbformat_minor": 5
}

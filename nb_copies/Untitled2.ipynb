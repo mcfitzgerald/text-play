{
 "cells": [
  {
   "cell_type": "code",
   "execution_count": 1,
   "id": "awful-observation",
   "metadata": {},
   "outputs": [],
   "source": [
    "import re\n",
    "import requests"
   ]
  },
  {
   "cell_type": "code",
   "execution_count": 9,
   "id": "roman-nutrition",
   "metadata": {},
   "outputs": [],
   "source": [
    "test_url = \"http://www.quora.com/q/doengrfkwhthllnl/How-to-use-disinfectants-safely-for-COVID-19\""
   ]
  },
  {
   "cell_type": "code",
   "execution_count": 10,
   "id": "resistant-edition",
   "metadata": {},
   "outputs": [],
   "source": [
    "body = requests.get(test_url).text"
   ]
  },
  {
   "cell_type": "code",
   "execution_count": 7,
   "id": "welcome-stations",
   "metadata": {},
   "outputs": [],
   "source": [
    "import extract"
   ]
  },
  {
   "cell_type": "code",
   "execution_count": 11,
   "id": "approved-algebra",
   "metadata": {},
   "outputs": [
    {
     "name": "stdout",
     "output_type": "stream",
     "text": [
      "The number of sections extracted is 1\n"
     ]
    },
    {
     "data": {
      "text/plain": [
       "[]"
      ]
     },
     "execution_count": 11,
     "metadata": {},
     "output_type": "execute_result"
    }
   ],
   "source": [
    "extract.extract_answers(body)"
   ]
  },
  {
   "cell_type": "code",
   "execution_count": null,
   "id": "abandoned-plain",
   "metadata": {},
   "outputs": [],
   "source": [
    "with open('question-urls/')"
   ]
  }
 ],
 "metadata": {
  "kernelspec": {
   "display_name": "Python 3",
   "language": "python",
   "name": "python3"
  },
  "language_info": {
   "codemirror_mode": {
    "name": "ipython",
    "version": 3
   },
   "file_extension": ".py",
   "mimetype": "text/x-python",
   "name": "python",
   "nbconvert_exporter": "python",
   "pygments_lexer": "ipython3",
   "version": "3.9.1"
  }
 },
 "nbformat": 4,
 "nbformat_minor": 5
}

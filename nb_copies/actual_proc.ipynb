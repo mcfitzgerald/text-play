{
 "cells": [
  {
   "cell_type": "code",
   "execution_count": 1,
   "id": "painful-survival",
   "metadata": {},
   "outputs": [],
   "source": [
    "import pandas as pd"
   ]
  },
  {
   "cell_type": "code",
   "execution_count": 2,
   "id": "dependent-chicago",
   "metadata": {},
   "outputs": [],
   "source": [
    "df = pd.read_csv('../data/quora_clean.csv')"
   ]
  },
  {
   "cell_type": "code",
   "execution_count": 4,
   "id": "acoustic-belle",
   "metadata": {},
   "outputs": [
    {
     "data": {
      "text/plain": [
       "Index(['Unnamed: 0', 'Question', 'Answer'], dtype='object')"
      ]
     },
     "execution_count": 4,
     "metadata": {},
     "output_type": "execute_result"
    }
   ],
   "source": [
    "df.columns"
   ]
  },
  {
   "cell_type": "code",
   "execution_count": 5,
   "id": "dynamic-given",
   "metadata": {},
   "outputs": [],
   "source": [
    "del df['Unnamed: 0']"
   ]
  },
  {
   "cell_type": "code",
   "execution_count": 7,
   "id": "selected-privacy",
   "metadata": {},
   "outputs": [],
   "source": [
    "df.to_csv('../data/quora_clean_r1.csv')"
   ]
  },
  {
   "cell_type": "code",
   "execution_count": 8,
   "id": "flush-custody",
   "metadata": {},
   "outputs": [],
   "source": [
    "def word_count(text):\n",
    "    return len(str(text).split(' '))"
   ]
  },
  {
   "cell_type": "code",
   "execution_count": 9,
   "id": "funded-switzerland",
   "metadata": {},
   "outputs": [],
   "source": [
    "df['word_count'] = df['Answer'].apply(word_count)"
   ]
  },
  {
   "cell_type": "code",
   "execution_count": 11,
   "id": "cathedral-draft",
   "metadata": {},
   "outputs": [
    {
     "data": {
      "text/plain": [
       "348.89102564102564"
      ]
     },
     "execution_count": 11,
     "metadata": {},
     "output_type": "execute_result"
    }
   ],
   "source": [
    "df.word_count.mean()"
   ]
  },
  {
   "cell_type": "code",
   "execution_count": 12,
   "id": "contained-elevation",
   "metadata": {},
   "outputs": [],
   "source": [
    "import spacy"
   ]
  },
  {
   "cell_type": "code",
   "execution_count": 13,
   "id": "latest-holly",
   "metadata": {},
   "outputs": [],
   "source": [
    "nlp = spacy.load(\"en_core_web_sm\")"
   ]
  },
  {
   "cell_type": "code",
   "execution_count": 23,
   "id": "judicial-career",
   "metadata": {},
   "outputs": [],
   "source": [
    "new_df = df[df['Answer'].isnull() == False]"
   ]
  },
  {
   "cell_type": "code",
   "execution_count": 24,
   "id": "italic-argument",
   "metadata": {},
   "outputs": [
    {
     "name": "stderr",
     "output_type": "stream",
     "text": [
      "<ipython-input-24-96d7475950b1>:1: SettingWithCopyWarning: \n",
      "A value is trying to be set on a copy of a slice from a DataFrame.\n",
      "Try using .loc[row_indexer,col_indexer] = value instead\n",
      "\n",
      "See the caveats in the documentation: https://pandas.pydata.org/pandas-docs/stable/user_guide/indexing.html#returning-a-view-versus-a-copy\n",
      "  new_df['proc'] = new_df['Answer'].apply(nlp)\n"
     ]
    }
   ],
   "source": [
    "new_df['proc'] = new_df['Answer'].apply(nlp)"
   ]
  },
  {
   "cell_type": "code",
   "execution_count": 25,
   "id": "peripheral-second",
   "metadata": {},
   "outputs": [
    {
     "data": {
      "text/html": [
       "<div>\n",
       "<style scoped>\n",
       "    .dataframe tbody tr th:only-of-type {\n",
       "        vertical-align: middle;\n",
       "    }\n",
       "\n",
       "    .dataframe tbody tr th {\n",
       "        vertical-align: top;\n",
       "    }\n",
       "\n",
       "    .dataframe thead th {\n",
       "        text-align: right;\n",
       "    }\n",
       "</style>\n",
       "<table border=\"1\" class=\"dataframe\">\n",
       "  <thead>\n",
       "    <tr style=\"text-align: right;\">\n",
       "      <th></th>\n",
       "      <th>Question</th>\n",
       "      <th>Answer</th>\n",
       "      <th>word_count</th>\n",
       "      <th>proc</th>\n",
       "    </tr>\n",
       "  </thead>\n",
       "  <tbody>\n",
       "    <tr>\n",
       "      <th>0</th>\n",
       "      <td>Can I use Comet and bleach to clean my bathroom</td>\n",
       "      <td>You can use both but not at the same time. Com...</td>\n",
       "      <td>2341</td>\n",
       "      <td>(You, can, use, both, but, not, at, the, same,...</td>\n",
       "    </tr>\n",
       "    <tr>\n",
       "      <th>1</th>\n",
       "      <td>Which is the best full home deep cleaning serv...</td>\n",
       "      <td>Which is the best full home deep cleaning serv...</td>\n",
       "      <td>12</td>\n",
       "      <td>(Which, is, the, best, full, home, deep, clean...</td>\n",
       "    </tr>\n",
       "    <tr>\n",
       "      <th>2</th>\n",
       "      <td>What is the best way to clean a tub in a hotel...</td>\n",
       "      <td>What is the best way to clean a tub in a hotel...</td>\n",
       "      <td>16</td>\n",
       "      <td>(What, is, the, best, way, to, clean, a, tub, ...</td>\n",
       "    </tr>\n",
       "    <tr>\n",
       "      <th>3</th>\n",
       "      <td>Can you use Clorox wipes on yoga mats</td>\n",
       "      <td>In the wake of the ongoing global health crisi...</td>\n",
       "      <td>1167</td>\n",
       "      <td>(In, the, wake, of, the, ongoing, global, heal...</td>\n",
       "    </tr>\n",
       "    <tr>\n",
       "      <th>4</th>\n",
       "      <td>How do you get white stains water out of light...</td>\n",
       "      <td>Ok, I m not a chemist, but I have done a lot o...</td>\n",
       "      <td>853</td>\n",
       "      <td>(Ok, ,, I, m, not, a, chemist, ,, but, I, have...</td>\n",
       "    </tr>\n",
       "    <tr>\n",
       "      <th>...</th>\n",
       "      <td>...</td>\n",
       "      <td>...</td>\n",
       "      <td>...</td>\n",
       "      <td>...</td>\n",
       "    </tr>\n",
       "    <tr>\n",
       "      <th>774</th>\n",
       "      <td>How do I clean glasses properly at home</td>\n",
       "      <td>Glasses may be best washed with methyl alcohol...</td>\n",
       "      <td>49</td>\n",
       "      <td>(Glasses, may, be, best, washed, with, methyl,...</td>\n",
       "    </tr>\n",
       "    <tr>\n",
       "      <th>775</th>\n",
       "      <td>Is disinfectant the same as bleach</td>\n",
       "      <td>No, although Bleach does have disinfectant pro...</td>\n",
       "      <td>1864</td>\n",
       "      <td>(No, ,, although, Bleach, does, have, disinfec...</td>\n",
       "    </tr>\n",
       "    <tr>\n",
       "      <th>777</th>\n",
       "      <td>Why should the toothbrush be disinfected and h...</td>\n",
       "      <td>In the wake of the ongoing global health crisi...</td>\n",
       "      <td>761</td>\n",
       "      <td>(In, the, wake, of, the, ongoing, global, heal...</td>\n",
       "    </tr>\n",
       "    <tr>\n",
       "      <th>778</th>\n",
       "      <td>How is the YIGII paper towel holder for a bath...</td>\n",
       "      <td>How is the YIGII paper towel holder for a bath...</td>\n",
       "      <td>10</td>\n",
       "      <td>(How, is, the, YIGII, paper, towel, holder, fo...</td>\n",
       "    </tr>\n",
       "    <tr>\n",
       "      <th>779</th>\n",
       "      <td>How do I clean a house perfectly that is 4 sto...</td>\n",
       "      <td>Top to bottom. Literally. Start upstairs. Make...</td>\n",
       "      <td>168</td>\n",
       "      <td>(Top, to, bottom, ., Literally, ., Start, upst...</td>\n",
       "    </tr>\n",
       "  </tbody>\n",
       "</table>\n",
       "<p>681 rows × 4 columns</p>\n",
       "</div>"
      ],
      "text/plain": [
       "                                              Question  \\\n",
       "0      Can I use Comet and bleach to clean my bathroom   \n",
       "1    Which is the best full home deep cleaning serv...   \n",
       "2    What is the best way to clean a tub in a hotel...   \n",
       "3                Can you use Clorox wipes on yoga mats   \n",
       "4    How do you get white stains water out of light...   \n",
       "..                                                 ...   \n",
       "774            How do I clean glasses properly at home   \n",
       "775                 Is disinfectant the same as bleach   \n",
       "777  Why should the toothbrush be disinfected and h...   \n",
       "778  How is the YIGII paper towel holder for a bath...   \n",
       "779  How do I clean a house perfectly that is 4 sto...   \n",
       "\n",
       "                                                Answer  word_count  \\\n",
       "0    You can use both but not at the same time. Com...        2341   \n",
       "1    Which is the best full home deep cleaning serv...          12   \n",
       "2    What is the best way to clean a tub in a hotel...          16   \n",
       "3    In the wake of the ongoing global health crisi...        1167   \n",
       "4    Ok, I m not a chemist, but I have done a lot o...         853   \n",
       "..                                                 ...         ...   \n",
       "774  Glasses may be best washed with methyl alcohol...          49   \n",
       "775  No, although Bleach does have disinfectant pro...        1864   \n",
       "777  In the wake of the ongoing global health crisi...         761   \n",
       "778  How is the YIGII paper towel holder for a bath...          10   \n",
       "779  Top to bottom. Literally. Start upstairs. Make...         168   \n",
       "\n",
       "                                                  proc  \n",
       "0    (You, can, use, both, but, not, at, the, same,...  \n",
       "1    (Which, is, the, best, full, home, deep, clean...  \n",
       "2    (What, is, the, best, way, to, clean, a, tub, ...  \n",
       "3    (In, the, wake, of, the, ongoing, global, heal...  \n",
       "4    (Ok, ,, I, m, not, a, chemist, ,, but, I, have...  \n",
       "..                                                 ...  \n",
       "774  (Glasses, may, be, best, washed, with, methyl,...  \n",
       "775  (No, ,, although, Bleach, does, have, disinfec...  \n",
       "777  (In, the, wake, of, the, ongoing, global, heal...  \n",
       "778  (How, is, the, YIGII, paper, towel, holder, fo...  \n",
       "779  (Top, to, bottom, ., Literally, ., Start, upst...  \n",
       "\n",
       "[681 rows x 4 columns]"
      ]
     },
     "execution_count": 25,
     "metadata": {},
     "output_type": "execute_result"
    }
   ],
   "source": [
    "new_df"
   ]
  },
  {
   "cell_type": "code",
   "execution_count": null,
   "id": "loved-visit",
   "metadata": {},
   "outputs": [],
   "source": []
  }
 ],
 "metadata": {
  "kernelspec": {
   "display_name": "Python 3",
   "language": "python",
   "name": "python3"
  },
  "language_info": {
   "codemirror_mode": {
    "name": "ipython",
    "version": 3
   },
   "file_extension": ".py",
   "mimetype": "text/x-python",
   "name": "python",
   "nbconvert_exporter": "python",
   "pygments_lexer": "ipython3",
   "version": "3.9.1"
  }
 },
 "nbformat": 4,
 "nbformat_minor": 5
}

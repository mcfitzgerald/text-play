{
 "cells": [
  {
   "cell_type": "code",
   "execution_count": 1,
   "id": "promotional-driving",
   "metadata": {},
   "outputs": [],
   "source": [
    "import re"
   ]
  },
  {
   "cell_type": "code",
   "execution_count": 2,
   "id": "british-package",
   "metadata": {},
   "outputs": [],
   "source": [
    "regex = re.compile(r'\\\"text\\\"(.*?)upvote')"
   ]
  },
  {
   "cell_type": "code",
   "execution_count": 3,
   "id": "incorrect-banking",
   "metadata": {},
   "outputs": [],
   "source": [
    "with open('out.txt') as f:\n",
    "    b = re.findall(regex,f.read())"
   ]
  },
  {
   "cell_type": "code",
   "execution_count": 25,
   "id": "robust-magnet",
   "metadata": {},
   "outputs": [
    {
     "name": "stdout",
     "output_type": "stream",
     "text": [
      ": \"You can use both but not at the same time.\\n\\nComet is an abrasive cleanser and is best used for removing soap scum, hard water deposits, and mold and mildew and the stains they leave behind. Rinse well when you are done and send the removed crud and gritty residue left from the Comet or a similar cleanser down the drain.\\n\\nBleach, either chlorine or oxygen, is good for removing stains on clothing and hard household surfaces, and bleach also sanitizes. In the proper concentration and if allowed to stay on a surface long enough, it will kill pretty much everything, bacteria, fungi, molds, and viruses. Just be sure to dilute chlorine bleach with water. For cleaning surfaces a 10% bleach solution works best, and never use straight chlorine bleach, and make sure the area you are cleaning is well ventilated.\\n\\nChlorine fumes are very irritating to eyes and prolonged exposure can cause permanent damage, as can inhaled fumes to the lungs. Remember that the more concentrated the bleach is, and the longer you are exposed, the more damage will occur.\\n\\nIMPORTANT WARNING: chlorine intended for household bleach is between 5 and 8 percent concentration, and is not all bleach. The 10% bleach solution for surface cleaning is 1 part bleach straight from the bottle mixed with 9 parts water.\", \"\n",
      ": \"Remediate the moisture in your bathroom either while your showering or right after . If you don\\u2019t have a good vent , close the bathroom door and open a window after you shower . If it\\u2019s cold outside after dressing go back I. And close the window.\\n\\nkill, the mold with some fungicide or kiltz the ceiling and paint the ceiling with bath and kitchen paint meant specifically for wet areas .\\n\\nIf you have a shower curtain get in the habit of leaving it partially spread out but not either completely fold up nor coletely open so that your shower area dries quickly including the shower curtain . If you have a shadower door then leave it open. Wiping it dry will help too if you have time .\\n\\nCalk all cracks around the shower area so that too does not hold mold and moisture .\\n\\nIf you have a very small bathroom take wet towels away from it and hang them elsewhere . Like over a closet door of bedroom door so they dry quickly and do contribute to moisture . And clear out any extra shampoo bottles or things that are not essential to showering for at least awhile as they many bottles and sponges left in the shower will hold more moisture than you think.\\n\\nAfter your done showering and the window is closed , leave the bathroom door open so that air circulates and keep your bathroom clean and clear of things that grow mold as the spores will look to spread even when you think you have killed the mold spores will be looking for a new place to land .\\n\\nWhen you paint your ceiling and dry the bathroom out quickly after showering your mold problem should disappear .\", \"\n",
      ": \"Whatever product you want to use for cleaning will be rinsed with water. Using anything else can be done without problem next time you need cleaning.\\n\\nBut if you want to use vinegar, remember it\\u2019s not that efficient as people on the web claim\\u2026\\n\\nWhen you clean the bathroom using chemicals (natural or man made), you may want to consider using protection, such as a mask with the right cartridge.\\n\\nBleach is harmful for your respiratory tract, so are other chemicals and a mixture may give other gases (mixing sodium bicarbonate with vinegar for example, this I found it frequently on the internet as good for cleaning).\", \"\n",
      ": \"Why You Shouldn't Mix Bleach and Vinegar - ThoughtCo [ https://www.thoughtco.com/mixing-bleach-and-vinegar-609281 ]\\n\\n\\u201c\\u201d\\u201d\\u201d\\u201dMixing bleach and vinegar is a bad idea. When you mix these two substances, toxic chlorine gas is released, which essentially serves as a way to wage chemical warfare on one's self. Many people mix bleach and vinegar knowing it's dangerous, but either underestimate the risk or else hope for increased cleaning power. (Jun 12, 2019)\\u201d\\u201d\\u201d\\u201d, www.thoughtco.com \\u203a Science \\u203a Chemistry [ https://www.thoughtco.com/mixing-bleach-and-vinegar-609281 ] .\\n\\n * - -\\nYou need to open all the windows wide & let the place air out.\\n\\nBleach is never to be mixed with ANY other common household cleaning products. It will cause the formation of Chlorije gas or chloramines, which are also toxic.\", \"\n",
      ": \"The general rule is do not mix chemicals that you are not familiar with. The best place to start is with the MSDS (Material Safety Data Sheet) also called SDS (Safety Data Sheet). These are generally available on the manufacturers web site. For Instance for Comet\\n\\nhttp://sds.chemtel.net/webclients/cheneybrothers/508065sds.PDF\\n\\nAll people should get familiar with these and look them up any time they are working with a new material. Comet\\u2019s manufacturer specifically warns against mixing anything with their product. Most manufacturers will happily supply both MSDSs or SDSs as well as detailed instructions. Most of the time you can easily find this information in a few minutes on the web. (It took me about 10s to find the above reference and that is mostly due to my crappy typing skills.)\", \"\n",
      ": \"What is Comet bleach? Why is someone inhaling it? Do they inhale because their brain cells are already compromised? Is there any way to determine if these people have brain cells or how many are compromised?\\n\\nOn a planetary scale of priorities, does it really matter? We have about 7,500,000,000 people on earth. I suspect approximately 7,499,999,990 will neither know or care.\", \"\n",
      ": \"Bleach is a cleaner. But not usually the best one to use. Bleach is a very harsh chemical (it is an acid, and a pretty strong one at that). It can/will cause oxidation/corrosion of most metals, and can severely impact many plastics. So use with caution.\\n\\nDisinfection requires first clean, then disinfectant application. Be sure to read and follow the makers instructions. Most household and even hospital disinfectants require a ten minute contact time. This means you spray the disinfectant liberally and then allow it to air dry.\", \"\n",
      ": \"I would substitute Hydrogen peroxide for bleach. H202 degrades into Hydrogen and Oxygen. It is better for indoor air quality and nontoxic (when dry) around pets. It is probably less effective than bleach as a disinfectant, or as a whitener. But is adequate against mold and algae. Highly preferred around pets. I\\u2019m told it tends to inactivate bleach. It can be irritating to skin when wet.\\n\\nI would substitute \\u201cBon Ami\\u201d for Ajax/Comet, since the active ingredient is limestone calcium carbonate. Again, I believe it is better for indoor air quality. It is abrasive.\", \"\n",
      ": \"It's the fumes. You need to ventilate, keep the air moving. If there is a window, open it, put a fan in the window blowing out. Keep the bathroom vent fan on. Keep the door open with a fan blowing fresh air in. Leave the fans and windows and doors open for 20 minutes after you are done. You don't want to be breathing that in.\", \"\n",
      ": \"It\\u2019s best not to mix household bleach with anything even if the product contains bleach. There are different kinds of bleachers. Some are made specifically for the product only. Adding your own bleach may counteract the product or worse cause toxic fumes. If you think adding you own bleach will clean better, just use more Comet or Ajax instead.\", \"\n"
     ]
    }
   ],
   "source": [
    "for i in b:\n",
    "    print(i)"
   ]
  },
  {
   "cell_type": "code",
   "execution_count": 9,
   "id": "surprised-interest",
   "metadata": {},
   "outputs": [
    {
     "name": "stdout",
     "output_type": "stream",
     "text": [
      "Can-I-use-Comet-and-bleach-to-clean-my-bathroom\n",
      "\n",
      "Which-is-the-best-full-home-deep-cleaning-services-company-in-Dubai\n",
      "-UNANSWERED\n",
      "What-is-the-best-way-to-clean-a-tub-in-a-hotel-before-we-get-in-UNANSWERED\n"
     ]
    }
   ],
   "source": [
    "with open('small_quest.txt') as f:\n",
    "    for url in f:\n",
    "        slugs = url.split(\"/\")\n",
    "        #position unique to quora urls\n",
    "        if slugs[3] != 'unanswered':\n",
    "                question = slugs[3]\n",
    "                #print(question)\n",
    "        else:\n",
    "            question = (slugs[4] + '-' + slugs[3].upper())\n",
    "            #print(question)\n",
    "        "
   ]
  },
  {
   "cell_type": "code",
   "execution_count": 6,
   "id": "permanent-hunger",
   "metadata": {},
   "outputs": [],
   "source": [
    "import requests"
   ]
  },
  {
   "cell_type": "code",
   "execution_count": 56,
   "id": "specialized-password",
   "metadata": {},
   "outputs": [
    {
     "name": "stdout",
     "output_type": "stream",
     "text": [
      "1\n",
      "2\n",
      "3\n",
      "4\n"
     ]
    }
   ],
   "source": [
    "for i in range(1,5):\n",
    "    print(i)"
   ]
  },
  {
   "cell_type": "code",
   "execution_count": 71,
   "id": "announced-prerequisite",
   "metadata": {},
   "outputs": [],
   "source": [
    "def get_quora_answer_text(question_url,bounding_regex):\n",
    "    text = requests.get(question_url).text\n",
    "    match_list = re.findall(bounding_regex,text)\n",
    "    answer_dict = {}\n",
    "    for i in range(1,(len(match_list)+1)):\n",
    "        answer_dict[i] = match_list[i-1]\n",
    "    return answer_dict"
   ]
  },
  {
   "cell_type": "code",
   "execution_count": 72,
   "id": "crude-imagination",
   "metadata": {},
   "outputs": [],
   "source": [
    "def get_question_slug(url):\n",
    "    slugs = url.split(\"/\")\n",
    "    #position unique to quora urls\n",
    "    if slugs[3] != 'unanswered':\n",
    "        question = slugs[3]\n",
    "        #print(question)\n",
    "    else:\n",
    "        question = (slugs[4] + '-' + slugs[3].upper())\n",
    "        #print(question)\n",
    "    return question"
   ]
  },
  {
   "cell_type": "code",
   "execution_count": 73,
   "id": "desperate-solid",
   "metadata": {},
   "outputs": [
    {
     "name": "stdout",
     "output_type": "stream",
     "text": [
      "Can-I-use-Comet-and-bleach-to-clean-my-bathroom\n",
      "\n",
      "Which-is-the-best-full-home-deep-cleaning-services-company-in-Dubai\n",
      "-UNANSWERED\n",
      "What-is-the-best-way-to-clean-a-tub-in-a-hotel-before-we-get-in-UNANSWERED\n"
     ]
    }
   ],
   "source": [
    "with open('small_quest.txt') as f:\n",
    "    for url in f:\n",
    "        question = get_question_slug(url)\n",
    "        print(question)"
   ]
  },
  {
   "cell_type": "code",
   "execution_count": 74,
   "id": "ruled-wyoming",
   "metadata": {},
   "outputs": [],
   "source": [
    "def scrape_quora_url(url,bounding_regex):\n",
    "    question = get_question_slug(url)\n",
    "    answers = get_quora_answer_text(url,bounding_regex)\n",
    "    return question, answers"
   ]
  },
  {
   "cell_type": "code",
   "execution_count": 75,
   "id": "stuffed-rover",
   "metadata": {},
   "outputs": [],
   "source": [
    "import time"
   ]
  },
  {
   "cell_type": "code",
   "execution_count": 101,
   "id": "threaded-venezuela",
   "metadata": {},
   "outputs": [],
   "source": [
    "import random"
   ]
  },
  {
   "cell_type": "code",
   "execution_count": 104,
   "id": "enabling-acting",
   "metadata": {},
   "outputs": [
    {
     "data": {
      "text/plain": [
       "<module 'random' from '/usr/local/Cellar/python@3.9/3.9.1_3/Frameworks/Python.framework/Versions/3.9/lib/python3.9/random.py'>"
      ]
     },
     "execution_count": 104,
     "metadata": {},
     "output_type": "execute_result"
    }
   ],
   "source": []
  },
  {
   "cell_type": "code",
   "execution_count": 129,
   "id": "limiting-saying",
   "metadata": {},
   "outputs": [
    {
     "name": "stdout",
     "output_type": "stream",
     "text": [
      "now pocessing question 1\n",
      "now pocessing question 2\n",
      "now pocessing question 3\n"
     ]
    },
    {
     "ename": "KeyboardInterrupt",
     "evalue": "",
     "output_type": "error",
     "traceback": [
      "\u001b[0;31m---------------------------------------------------------------------------\u001b[0m",
      "\u001b[0;31mKeyboardInterrupt\u001b[0m                         Traceback (most recent call last)",
      "\u001b[0;32m<ipython-input-129-f96d49d17391>\u001b[0m in \u001b[0;36m<module>\u001b[0;34m\u001b[0m\n\u001b[1;32m      9\u001b[0m             \u001b[0mans\u001b[0m\u001b[0;34m.\u001b[0m\u001b[0mappend\u001b[0m\u001b[0;34m(\u001b[0m\u001b[0mtemp\u001b[0m\u001b[0;34m)\u001b[0m\u001b[0;34m\u001b[0m\u001b[0;34m\u001b[0m\u001b[0m\n\u001b[1;32m     10\u001b[0m             \u001b[0mjson\u001b[0m\u001b[0;34m.\u001b[0m\u001b[0mdump\u001b[0m\u001b[0;34m(\u001b[0m\u001b[0mtemp\u001b[0m\u001b[0;34m,\u001b[0m\u001b[0moutfile\u001b[0m\u001b[0;34m)\u001b[0m\u001b[0;34m\u001b[0m\u001b[0;34m\u001b[0m\u001b[0m\n\u001b[0;32m---> 11\u001b[0;31m             \u001b[0mtime\u001b[0m\u001b[0;34m.\u001b[0m\u001b[0msleep\u001b[0m\u001b[0;34m(\u001b[0m\u001b[0mrandom\u001b[0m\u001b[0;34m.\u001b[0m\u001b[0muniform\u001b[0m\u001b[0;34m(\u001b[0m\u001b[0;36m1\u001b[0m\u001b[0;34m,\u001b[0m\u001b[0;36m3\u001b[0m\u001b[0;34m)\u001b[0m\u001b[0;34m)\u001b[0m\u001b[0;34m\u001b[0m\u001b[0;34m\u001b[0m\u001b[0m\n\u001b[0m\u001b[1;32m     12\u001b[0m             \u001b[0mcount\u001b[0m\u001b[0;34m+=\u001b[0m \u001b[0;36m1\u001b[0m\u001b[0;34m\u001b[0m\u001b[0;34m\u001b[0m\u001b[0m\n",
      "\u001b[0;31mKeyboardInterrupt\u001b[0m: "
     ]
    }
   ],
   "source": [
    "with open('outfile.json','a+') as outfile:\n",
    "    with open('small_quest.txt') as f:\n",
    "        ans = []\n",
    "        count = 1\n",
    "        for url in f:\n",
    "            print(f\"now pocessing question {count}\")\n",
    "            q,a = scrape_quora_url(url,regex)\n",
    "            temp = {q:a}\n",
    "            ans.append(temp)\n",
    "            json.dump(temp,outfile)\n",
    "            time.sleep(random.uniform(1,3))\n",
    "            count+= 1"
   ]
  },
  {
   "cell_type": "code",
   "execution_count": 128,
   "id": "ordered-ceramic",
   "metadata": {},
   "outputs": [
    {
     "data": {
      "text/plain": [
       "'[{\"Can-I-use-Comet-and-bleach-to-clean-my-bathroom\\\\n\": {\"1\": \": \\\\\"You can use both but not at the same time.\\\\\\\\n\\\\\\\\nComet is an abrasive cleanser and is best used for removing soap scum, hard water deposits, and mold and mildew and the stains they leave behind. Rinse well when you are done and send the removed crud and gritty residue left from the Comet or a similar cleanser down the drain.\\\\\\\\n\\\\\\\\nBleach, either chlorine or oxygen, is good for removing stains on clothing and hard household surfaces, and bleach also sanitizes. In the proper concentration and if allowed to stay on a surface long enough, it will kill pretty much everything, bacteria, fungi, molds, and viruses. Just be sure to dilute chlorine bleach with water. For cleaning surfaces a 10% bleach solution works best, and never use straight chlorine bleach, and make sure the area you are cleaning is well ventilated.\\\\\\\\n\\\\\\\\nChlorine fumes are very irritating to eyes and prolonged exposure can cause permanent damage, as can inhaled fumes to the lungs. Remember that the more concentrated the bleach is, and the longer you are exposed, the more damage will occur.\\\\\\\\n\\\\\\\\nIMPORTANT WARNING: chlorine intended for household bleach is between 5 and 8 percent concentration, and is not all bleach. The 10% bleach solution for surface cleaning is 1 part bleach straight from the bottle mixed with 9 parts water.\\\\\", \\\\\"\", \"2\": \": \\\\\"Remediate the moisture in your bathroom either while your showering or right after . If you don\\\\\\\\u2019t have a good vent , close the bathroom door and open a window after you shower . If it\\\\\\\\u2019s cold outside after dressing go back I. And close the window.\\\\\\\\n\\\\\\\\nkill, the mold with some fungicide or kiltz the ceiling and paint the ceiling with bath and kitchen paint meant specifically for wet areas .\\\\\\\\n\\\\\\\\nIf you have a shower curtain get in the habit of leaving it partially spread out but not either completely fold up nor coletely open so that your shower area dries quickly including the shower curtain . If you have a shadower door then leave it open. Wiping it dry will help too if you have time .\\\\\\\\n\\\\\\\\nCalk all cracks around the shower area so that too does not hold mold and moisture .\\\\\\\\n\\\\\\\\nIf you have a very small bathroom take wet towels away from it and hang them elsewhere . Like over a closet door of bedroom door so they dry quickly and do contribute to moisture . And clear out any extra shampoo bottles or things that are not essential to showering for at least awhile as they many bottles and sponges left in the shower will hold more moisture than you think.\\\\\\\\n\\\\\\\\nAfter your done showering and the window is closed , leave the bathroom door open so that air circulates and keep your bathroom clean and clear of things that grow mold as the spores will look to spread even when you think you have killed the mold spores will be looking for a new place to land .\\\\\\\\n\\\\\\\\nWhen you paint your ceiling and dry the bathroom out quickly after showering your mold problem should disappear .\\\\\", \\\\\"\", \"3\": \": \\\\\"Whatever product you want to use for cleaning will be rinsed with water. Using anything else can be done without problem next time you need cleaning.\\\\\\\\n\\\\\\\\nBut if you want to use vinegar, remember it\\\\\\\\u2019s not that efficient as people on the web claim\\\\\\\\u2026\\\\\\\\n\\\\\\\\nWhen you clean the bathroom using chemicals (natural or man made), you may want to consider using protection, such as a mask with the right cartridge.\\\\\\\\n\\\\\\\\nBleach is harmful for your respiratory tract, so are other chemicals and a mixture may give other gases (mixing sodium bicarbonate with vinegar for example, this I found it frequently on the internet as good for cleaning).\\\\\", \\\\\"\", \"4\": \": \\\\\"Why You Shouldn\\'t Mix Bleach and Vinegar - ThoughtCo [ https://www.thoughtco.com/mixing-bleach-and-vinegar-609281 ]\\\\\\\\n\\\\\\\\n\\\\\\\\u201c\\\\\\\\u201d\\\\\\\\u201d\\\\\\\\u201d\\\\\\\\u201dMixing bleach and vinegar is a bad idea. When you mix these two substances, toxic chlorine gas is released, which essentially serves as a way to wage chemical warfare on one\\'s self. Many people mix bleach and vinegar knowing it\\'s dangerous, but either underestimate the risk or else hope for increased cleaning power. (Jun 12, 2019)\\\\\\\\u201d\\\\\\\\u201d\\\\\\\\u201d\\\\\\\\u201d, www.thoughtco.com \\\\\\\\u203a Science \\\\\\\\u203a Chemistry [ https://www.thoughtco.com/mixing-bleach-and-vinegar-609281 ] .\\\\\\\\n\\\\\\\\n * - -\\\\\\\\nYou need to open all the windows wide & let the place air out.\\\\\\\\n\\\\\\\\nBleach is never to be mixed with ANY other common household cleaning products. It will cause the formation of Chlorije gas or chloramines, which are also toxic.\\\\\", \\\\\"\", \"5\": \": \\\\\"The general rule is do not mix chemicals that you are not familiar with. The best place to start is with the MSDS (Material Safety Data Sheet) also called SDS (Safety Data Sheet). These are generally available on the manufacturers web site. For Instance for Comet\\\\\\\\n\\\\\\\\nhttp://sds.chemtel.net/webclients/cheneybrothers/508065sds.PDF\\\\\\\\n\\\\\\\\nAll people should get familiar with these and look them up any time they are working with a new material. Comet\\\\\\\\u2019s manufacturer specifically warns against mixing anything with their product. Most manufacturers will happily supply both MSDSs or SDSs as well as detailed instructions. Most of the time you can easily find this information in a few minutes on the web. (It took me about 10s to find the above reference and that is mostly due to my crappy typing skills.)\\\\\", \\\\\"\", \"6\": \": \\\\\"What is Comet bleach? Why is someone inhaling it? Do they inhale because their brain cells are already compromised? Is there any way to determine if these people have brain cells or how many are compromised?\\\\\\\\n\\\\\\\\nOn a planetary scale of priorities, does it really matter? We have about 7,500,000,000 people on earth. I suspect approximately 7,499,999,990 will neither know or care.\\\\\", \\\\\"\", \"7\": \": \\\\\"Bleach is a cleaner. But not usually the best one to use. Bleach is a very harsh chemical (it is an acid, and a pretty strong one at that). It can/will cause oxidation/corrosion of most metals, and can severely impact many plastics. So use with caution.\\\\\\\\n\\\\\\\\nDisinfection requires first clean, then disinfectant application. Be sure to read and follow the makers instructions. Most household and even hospital disinfectants require a ten minute contact time. This means you spray the disinfectant liberally and then allow it to air dry.\\\\\", \\\\\"\", \"8\": \": \\\\\"I would substitute Hydrogen peroxide for bleach. H202 degrades into Hydrogen and Oxygen. It is better for indoor air quality and nontoxic (when dry) around pets. It is probably less effective than bleach as a disinfectant, or as a whitener. But is adequate against mold and algae. Highly preferred around pets. I\\\\\\\\u2019m told it tends to inactivate bleach. It can be irritating to skin when wet.\\\\\\\\n\\\\\\\\nI would substitute \\\\\\\\u201cBon Ami\\\\\\\\u201d for Ajax/Comet, since the active ingredient is limestone calcium carbonate. Again, I believe it is better for indoor air quality. It is abrasive.\\\\\", \\\\\"\", \"9\": \": \\\\\"It\\\\\\\\u2019s best not to mix household bleach with anything even if the product contains bleach. There are different kinds of bleachers. Some are made specifically for the product only. Adding your own bleach may counteract the product or worse cause toxic fumes. If you think adding you own bleach will clean better, just use more Comet or Ajax instead.\\\\\", \\\\\"\", \"10\": \": \\\\\"It\\'s the fumes. You need to ventilate, keep the air moving. If there is a window, open it, put a fan in the window blowing out. Keep the bathroom vent fan on. Keep the door open with a fan blowing fresh air in. Leave the fans and windows and doors open for 20 minutes after you are done. You don\\'t want to be breathing that in.\\\\\", \\\\\"\"}}, {\"Which-is-the-best-full-home-deep-cleaning-services-company-in-Dubai\\\\n-UNANSWERED\": {}}, {\"What-is-the-best-way-to-clean-a-tub-in-a-hotel-before-we-get-in-UNANSWERED\": {}}]'"
      ]
     },
     "execution_count": 128,
     "metadata": {},
     "output_type": "execute_result"
    }
   ],
   "source": [
    "json.dumps(ans)"
   ]
  },
  {
   "cell_type": "code",
   "execution_count": null,
   "id": "technical-investigation",
   "metadata": {},
   "outputs": [],
   "source": []
  },
  {
   "cell_type": "code",
   "execution_count": null,
   "id": "cardiac-chick",
   "metadata": {},
   "outputs": [],
   "source": []
  },
  {
   "cell_type": "code",
   "execution_count": 125,
   "id": "plain-amount",
   "metadata": {},
   "outputs": [
    {
     "name": "stdout",
     "output_type": "stream",
     "text": [
      "now doing 2\n"
     ]
    }
   ],
   "source": [
    "abe = 2\n",
    "print(f\"now doing {abe}\")"
   ]
  },
  {
   "cell_type": "code",
   "execution_count": 78,
   "id": "pursuant-living",
   "metadata": {},
   "outputs": [],
   "source": [
    "import json"
   ]
  },
  {
   "cell_type": "code",
   "execution_count": 87,
   "id": "separated-abraham",
   "metadata": {},
   "outputs": [
    {
     "data": {
      "text/plain": [
       "'[\"Can-I-use-Comet-and-bleach-to-clean-my-bathroom\\\\n\", {\"1\": \": \\\\\"You can use both but not at the same time.\\\\\\\\n\\\\\\\\nComet is an abrasive cleanser and is best used for removing soap scum, hard water deposits, and mold and mildew and the stains they leave behind. Rinse well when you are done and send the removed crud and gritty residue left from the Comet or a similar cleanser down the drain.\\\\\\\\n\\\\\\\\nBleach, either chlorine or oxygen, is good for removing stains on clothing and hard household surfaces, and bleach also sanitizes. In the proper concentration and if allowed to stay on a surface long enough, it will kill pretty much everything, bacteria, fungi, molds, and viruses. Just be sure to dilute chlorine bleach with water. For cleaning surfaces a 10% bleach solution works best, and never use straight chlorine bleach, and make sure the area you are cleaning is well ventilated.\\\\\\\\n\\\\\\\\nChlorine fumes are very irritating to eyes and prolonged exposure can cause permanent damage, as can inhaled fumes to the lungs. Remember that the more concentrated the bleach is, and the longer you are exposed, the more damage will occur.\\\\\\\\n\\\\\\\\nIMPORTANT WARNING: chlorine intended for household bleach is between 5 and 8 percent concentration, and is not all bleach. The 10% bleach solution for surface cleaning is 1 part bleach straight from the bottle mixed with 9 parts water.\\\\\", \\\\\"\", \"2\": \": \\\\\"Remediate the moisture in your bathroom either while your showering or right after . If you don\\\\\\\\u2019t have a good vent , close the bathroom door and open a window after you shower . If it\\\\\\\\u2019s cold outside after dressing go back I. And close the window.\\\\\\\\n\\\\\\\\nkill, the mold with some fungicide or kiltz the ceiling and paint the ceiling with bath and kitchen paint meant specifically for wet areas .\\\\\\\\n\\\\\\\\nIf you have a shower curtain get in the habit of leaving it partially spread out but not either completely fold up nor coletely open so that your shower area dries quickly including the shower curtain . If you have a shadower door then leave it open. Wiping it dry will help too if you have time .\\\\\\\\n\\\\\\\\nCalk all cracks around the shower area so that too does not hold mold and moisture .\\\\\\\\n\\\\\\\\nIf you have a very small bathroom take wet towels away from it and hang them elsewhere . Like over a closet door of bedroom door so they dry quickly and do contribute to moisture . And clear out any extra shampoo bottles or things that are not essential to showering for at least awhile as they many bottles and sponges left in the shower will hold more moisture than you think.\\\\\\\\n\\\\\\\\nAfter your done showering and the window is closed , leave the bathroom door open so that air circulates and keep your bathroom clean and clear of things that grow mold as the spores will look to spread even when you think you have killed the mold spores will be looking for a new place to land .\\\\\\\\n\\\\\\\\nWhen you paint your ceiling and dry the bathroom out quickly after showering your mold problem should disappear .\\\\\", \\\\\"\", \"3\": \": \\\\\"Whatever product you want to use for cleaning will be rinsed with water. Using anything else can be done without problem next time you need cleaning.\\\\\\\\n\\\\\\\\nBut if you want to use vinegar, remember it\\\\\\\\u2019s not that efficient as people on the web claim\\\\\\\\u2026\\\\\\\\n\\\\\\\\nWhen you clean the bathroom using chemicals (natural or man made), you may want to consider using protection, such as a mask with the right cartridge.\\\\\\\\n\\\\\\\\nBleach is harmful for your respiratory tract, so are other chemicals and a mixture may give other gases (mixing sodium bicarbonate with vinegar for example, this I found it frequently on the internet as good for cleaning).\\\\\", \\\\\"\", \"4\": \": \\\\\"Why You Shouldn\\'t Mix Bleach and Vinegar - ThoughtCo [ https://www.thoughtco.com/mixing-bleach-and-vinegar-609281 ]\\\\\\\\n\\\\\\\\n\\\\\\\\u201c\\\\\\\\u201d\\\\\\\\u201d\\\\\\\\u201d\\\\\\\\u201dMixing bleach and vinegar is a bad idea. When you mix these two substances, toxic chlorine gas is released, which essentially serves as a way to wage chemical warfare on one\\'s self. Many people mix bleach and vinegar knowing it\\'s dangerous, but either underestimate the risk or else hope for increased cleaning power. (Jun 12, 2019)\\\\\\\\u201d\\\\\\\\u201d\\\\\\\\u201d\\\\\\\\u201d, www.thoughtco.com \\\\\\\\u203a Science \\\\\\\\u203a Chemistry [ https://www.thoughtco.com/mixing-bleach-and-vinegar-609281 ] .\\\\\\\\n\\\\\\\\n * - -\\\\\\\\nYou need to open all the windows wide & let the place air out.\\\\\\\\n\\\\\\\\nBleach is never to be mixed with ANY other common household cleaning products. It will cause the formation of Chlorije gas or chloramines, which are also toxic.\\\\\", \\\\\"\", \"5\": \": \\\\\"The general rule is do not mix chemicals that you are not familiar with. The best place to start is with the MSDS (Material Safety Data Sheet) also called SDS (Safety Data Sheet). These are generally available on the manufacturers web site. For Instance for Comet\\\\\\\\n\\\\\\\\nhttp://sds.chemtel.net/webclients/cheneybrothers/508065sds.PDF\\\\\\\\n\\\\\\\\nAll people should get familiar with these and look them up any time they are working with a new material. Comet\\\\\\\\u2019s manufacturer specifically warns against mixing anything with their product. Most manufacturers will happily supply both MSDSs or SDSs as well as detailed instructions. Most of the time you can easily find this information in a few minutes on the web. (It took me about 10s to find the above reference and that is mostly due to my crappy typing skills.)\\\\\", \\\\\"\", \"6\": \": \\\\\"What is Comet bleach? Why is someone inhaling it? Do they inhale because their brain cells are already compromised? Is there any way to determine if these people have brain cells or how many are compromised?\\\\\\\\n\\\\\\\\nOn a planetary scale of priorities, does it really matter? We have about 7,500,000,000 people on earth. I suspect approximately 7,499,999,990 will neither know or care.\\\\\", \\\\\"\", \"7\": \": \\\\\"Bleach is a cleaner. But not usually the best one to use. Bleach is a very harsh chemical (it is an acid, and a pretty strong one at that). It can/will cause oxidation/corrosion of most metals, and can severely impact many plastics. So use with caution.\\\\\\\\n\\\\\\\\nDisinfection requires first clean, then disinfectant application. Be sure to read and follow the makers instructions. Most household and even hospital disinfectants require a ten minute contact time. This means you spray the disinfectant liberally and then allow it to air dry.\\\\\", \\\\\"\", \"8\": \": \\\\\"I would substitute Hydrogen peroxide for bleach. H202 degrades into Hydrogen and Oxygen. It is better for indoor air quality and nontoxic (when dry) around pets. It is probably less effective than bleach as a disinfectant, or as a whitener. But is adequate against mold and algae. Highly preferred around pets. I\\\\\\\\u2019m told it tends to inactivate bleach. It can be irritating to skin when wet.\\\\\\\\n\\\\\\\\nI would substitute \\\\\\\\u201cBon Ami\\\\\\\\u201d for Ajax/Comet, since the active ingredient is limestone calcium carbonate. Again, I believe it is better for indoor air quality. It is abrasive.\\\\\", \\\\\"\", \"9\": \": \\\\\"It\\\\\\\\u2019s best not to mix household bleach with anything even if the product contains bleach. There are different kinds of bleachers. Some are made specifically for the product only. Adding your own bleach may counteract the product or worse cause toxic fumes. If you think adding you own bleach will clean better, just use more Comet or Ajax instead.\\\\\", \\\\\"\", \"10\": \": \\\\\"It\\'s the fumes. You need to ventilate, keep the air moving. If there is a window, open it, put a fan in the window blowing out. Keep the bathroom vent fan on. Keep the door open with a fan blowing fresh air in. Leave the fans and windows and doors open for 20 minutes after you are done. You don\\'t want to be breathing that in.\\\\\", \\\\\"\"}]'"
      ]
     },
     "execution_count": 87,
     "metadata": {},
     "output_type": "execute_result"
    }
   ],
   "source": [
    "json.dumps(ans[0])"
   ]
  },
  {
   "cell_type": "code",
   "execution_count": 85,
   "id": "micro-tournament",
   "metadata": {},
   "outputs": [
    {
     "ename": "JSONDecodeError",
     "evalue": "Expecting value: line 1 column 1 (char 0)",
     "output_type": "error",
     "traceback": [
      "\u001b[0;31m---------------------------------------------------------------------------\u001b[0m",
      "\u001b[0;31mJSONDecodeError\u001b[0m                           Traceback (most recent call last)",
      "\u001b[0;32m<ipython-input-85-5339c9e7a3a3>\u001b[0m in \u001b[0;36m<module>\u001b[0;34m\u001b[0m\n\u001b[1;32m      1\u001b[0m \u001b[0;32mwith\u001b[0m \u001b[0mopen\u001b[0m\u001b[0;34m(\u001b[0m\u001b[0;34m\"test.json\"\u001b[0m\u001b[0;34m,\u001b[0m\u001b[0;34m\"w+\"\u001b[0m\u001b[0;34m)\u001b[0m \u001b[0;32mas\u001b[0m \u001b[0moutfile\u001b[0m\u001b[0;34m:\u001b[0m\u001b[0;34m\u001b[0m\u001b[0;34m\u001b[0m\u001b[0m\n\u001b[0;32m----> 2\u001b[0;31m     \u001b[0mdata\u001b[0m \u001b[0;34m=\u001b[0m \u001b[0mjson\u001b[0m\u001b[0;34m.\u001b[0m\u001b[0mload\u001b[0m\u001b[0;34m(\u001b[0m\u001b[0moutfile\u001b[0m\u001b[0;34m)\u001b[0m\u001b[0;34m\u001b[0m\u001b[0;34m\u001b[0m\u001b[0m\n\u001b[0m\u001b[1;32m      3\u001b[0m     \u001b[0mdata\u001b[0m\u001b[0;34m.\u001b[0m\u001b[0mupdate\u001b[0m\u001b[0;34m(\u001b[0m\u001b[0mans\u001b[0m\u001b[0;34m[\u001b[0m\u001b[0;36m0\u001b[0m\u001b[0;34m]\u001b[0m\u001b[0;34m[\u001b[0m\u001b[0;36m1\u001b[0m\u001b[0;34m]\u001b[0m\u001b[0;34m)\u001b[0m\u001b[0;34m\u001b[0m\u001b[0;34m\u001b[0m\u001b[0m\n\u001b[1;32m      4\u001b[0m     \u001b[0mfile\u001b[0m\u001b[0;34m.\u001b[0m\u001b[0mseek\u001b[0m\u001b[0;34m(\u001b[0m\u001b[0;36m0\u001b[0m\u001b[0;34m)\u001b[0m\u001b[0;34m\u001b[0m\u001b[0;34m\u001b[0m\u001b[0m\n\u001b[1;32m      5\u001b[0m     \u001b[0mjson\u001b[0m\u001b[0;34m.\u001b[0m\u001b[0mdump\u001b[0m\u001b[0;34m(\u001b[0m\u001b[0mdata\u001b[0m\u001b[0;34m,\u001b[0m\u001b[0moutfile\u001b[0m\u001b[0;34m)\u001b[0m\u001b[0;34m\u001b[0m\u001b[0;34m\u001b[0m\u001b[0m\n",
      "\u001b[0;32m/usr/local/Cellar/python@3.9/3.9.1_3/Frameworks/Python.framework/Versions/3.9/lib/python3.9/json/__init__.py\u001b[0m in \u001b[0;36mload\u001b[0;34m(fp, cls, object_hook, parse_float, parse_int, parse_constant, object_pairs_hook, **kw)\u001b[0m\n\u001b[1;32m    291\u001b[0m     \u001b[0mkwarg\u001b[0m\u001b[0;34m;\u001b[0m \u001b[0motherwise\u001b[0m\u001b[0;31m \u001b[0m\u001b[0;31m`\u001b[0m\u001b[0;31m`\u001b[0m\u001b[0mJSONDecoder\u001b[0m\u001b[0;31m`\u001b[0m\u001b[0;31m`\u001b[0m \u001b[0;32mis\u001b[0m \u001b[0mused\u001b[0m\u001b[0;34m.\u001b[0m\u001b[0;34m\u001b[0m\u001b[0;34m\u001b[0m\u001b[0m\n\u001b[1;32m    292\u001b[0m     \"\"\"\n\u001b[0;32m--> 293\u001b[0;31m     return loads(fp.read(),\n\u001b[0m\u001b[1;32m    294\u001b[0m         \u001b[0mcls\u001b[0m\u001b[0;34m=\u001b[0m\u001b[0mcls\u001b[0m\u001b[0;34m,\u001b[0m \u001b[0mobject_hook\u001b[0m\u001b[0;34m=\u001b[0m\u001b[0mobject_hook\u001b[0m\u001b[0;34m,\u001b[0m\u001b[0;34m\u001b[0m\u001b[0;34m\u001b[0m\u001b[0m\n\u001b[1;32m    295\u001b[0m         \u001b[0mparse_float\u001b[0m\u001b[0;34m=\u001b[0m\u001b[0mparse_float\u001b[0m\u001b[0;34m,\u001b[0m \u001b[0mparse_int\u001b[0m\u001b[0;34m=\u001b[0m\u001b[0mparse_int\u001b[0m\u001b[0;34m,\u001b[0m\u001b[0;34m\u001b[0m\u001b[0;34m\u001b[0m\u001b[0m\n",
      "\u001b[0;32m/usr/local/Cellar/python@3.9/3.9.1_3/Frameworks/Python.framework/Versions/3.9/lib/python3.9/json/__init__.py\u001b[0m in \u001b[0;36mloads\u001b[0;34m(s, cls, object_hook, parse_float, parse_int, parse_constant, object_pairs_hook, **kw)\u001b[0m\n\u001b[1;32m    344\u001b[0m             \u001b[0mparse_int\u001b[0m \u001b[0;32mis\u001b[0m \u001b[0;32mNone\u001b[0m \u001b[0;32mand\u001b[0m \u001b[0mparse_float\u001b[0m \u001b[0;32mis\u001b[0m \u001b[0;32mNone\u001b[0m \u001b[0;32mand\u001b[0m\u001b[0;34m\u001b[0m\u001b[0;34m\u001b[0m\u001b[0m\n\u001b[1;32m    345\u001b[0m             parse_constant is None and object_pairs_hook is None and not kw):\n\u001b[0;32m--> 346\u001b[0;31m         \u001b[0;32mreturn\u001b[0m \u001b[0m_default_decoder\u001b[0m\u001b[0;34m.\u001b[0m\u001b[0mdecode\u001b[0m\u001b[0;34m(\u001b[0m\u001b[0ms\u001b[0m\u001b[0;34m)\u001b[0m\u001b[0;34m\u001b[0m\u001b[0;34m\u001b[0m\u001b[0m\n\u001b[0m\u001b[1;32m    347\u001b[0m     \u001b[0;32mif\u001b[0m \u001b[0mcls\u001b[0m \u001b[0;32mis\u001b[0m \u001b[0;32mNone\u001b[0m\u001b[0;34m:\u001b[0m\u001b[0;34m\u001b[0m\u001b[0;34m\u001b[0m\u001b[0m\n\u001b[1;32m    348\u001b[0m         \u001b[0mcls\u001b[0m \u001b[0;34m=\u001b[0m \u001b[0mJSONDecoder\u001b[0m\u001b[0;34m\u001b[0m\u001b[0;34m\u001b[0m\u001b[0m\n",
      "\u001b[0;32m/usr/local/Cellar/python@3.9/3.9.1_3/Frameworks/Python.framework/Versions/3.9/lib/python3.9/json/decoder.py\u001b[0m in \u001b[0;36mdecode\u001b[0;34m(self, s, _w)\u001b[0m\n\u001b[1;32m    335\u001b[0m \u001b[0;34m\u001b[0m\u001b[0m\n\u001b[1;32m    336\u001b[0m         \"\"\"\n\u001b[0;32m--> 337\u001b[0;31m         \u001b[0mobj\u001b[0m\u001b[0;34m,\u001b[0m \u001b[0mend\u001b[0m \u001b[0;34m=\u001b[0m \u001b[0mself\u001b[0m\u001b[0;34m.\u001b[0m\u001b[0mraw_decode\u001b[0m\u001b[0;34m(\u001b[0m\u001b[0ms\u001b[0m\u001b[0;34m,\u001b[0m \u001b[0midx\u001b[0m\u001b[0;34m=\u001b[0m\u001b[0m_w\u001b[0m\u001b[0;34m(\u001b[0m\u001b[0ms\u001b[0m\u001b[0;34m,\u001b[0m \u001b[0;36m0\u001b[0m\u001b[0;34m)\u001b[0m\u001b[0;34m.\u001b[0m\u001b[0mend\u001b[0m\u001b[0;34m(\u001b[0m\u001b[0;34m)\u001b[0m\u001b[0;34m)\u001b[0m\u001b[0;34m\u001b[0m\u001b[0;34m\u001b[0m\u001b[0m\n\u001b[0m\u001b[1;32m    338\u001b[0m         \u001b[0mend\u001b[0m \u001b[0;34m=\u001b[0m \u001b[0m_w\u001b[0m\u001b[0;34m(\u001b[0m\u001b[0ms\u001b[0m\u001b[0;34m,\u001b[0m \u001b[0mend\u001b[0m\u001b[0;34m)\u001b[0m\u001b[0;34m.\u001b[0m\u001b[0mend\u001b[0m\u001b[0;34m(\u001b[0m\u001b[0;34m)\u001b[0m\u001b[0;34m\u001b[0m\u001b[0;34m\u001b[0m\u001b[0m\n\u001b[1;32m    339\u001b[0m         \u001b[0;32mif\u001b[0m \u001b[0mend\u001b[0m \u001b[0;34m!=\u001b[0m \u001b[0mlen\u001b[0m\u001b[0;34m(\u001b[0m\u001b[0ms\u001b[0m\u001b[0;34m)\u001b[0m\u001b[0;34m:\u001b[0m\u001b[0;34m\u001b[0m\u001b[0;34m\u001b[0m\u001b[0m\n",
      "\u001b[0;32m/usr/local/Cellar/python@3.9/3.9.1_3/Frameworks/Python.framework/Versions/3.9/lib/python3.9/json/decoder.py\u001b[0m in \u001b[0;36mraw_decode\u001b[0;34m(self, s, idx)\u001b[0m\n\u001b[1;32m    353\u001b[0m             \u001b[0mobj\u001b[0m\u001b[0;34m,\u001b[0m \u001b[0mend\u001b[0m \u001b[0;34m=\u001b[0m \u001b[0mself\u001b[0m\u001b[0;34m.\u001b[0m\u001b[0mscan_once\u001b[0m\u001b[0;34m(\u001b[0m\u001b[0ms\u001b[0m\u001b[0;34m,\u001b[0m \u001b[0midx\u001b[0m\u001b[0;34m)\u001b[0m\u001b[0;34m\u001b[0m\u001b[0;34m\u001b[0m\u001b[0m\n\u001b[1;32m    354\u001b[0m         \u001b[0;32mexcept\u001b[0m \u001b[0mStopIteration\u001b[0m \u001b[0;32mas\u001b[0m \u001b[0merr\u001b[0m\u001b[0;34m:\u001b[0m\u001b[0;34m\u001b[0m\u001b[0;34m\u001b[0m\u001b[0m\n\u001b[0;32m--> 355\u001b[0;31m             \u001b[0;32mraise\u001b[0m \u001b[0mJSONDecodeError\u001b[0m\u001b[0;34m(\u001b[0m\u001b[0;34m\"Expecting value\"\u001b[0m\u001b[0;34m,\u001b[0m \u001b[0ms\u001b[0m\u001b[0;34m,\u001b[0m \u001b[0merr\u001b[0m\u001b[0;34m.\u001b[0m\u001b[0mvalue\u001b[0m\u001b[0;34m)\u001b[0m \u001b[0;32mfrom\u001b[0m \u001b[0;32mNone\u001b[0m\u001b[0;34m\u001b[0m\u001b[0;34m\u001b[0m\u001b[0m\n\u001b[0m\u001b[1;32m    356\u001b[0m         \u001b[0;32mreturn\u001b[0m \u001b[0mobj\u001b[0m\u001b[0;34m,\u001b[0m \u001b[0mend\u001b[0m\u001b[0;34m\u001b[0m\u001b[0;34m\u001b[0m\u001b[0m\n",
      "\u001b[0;31mJSONDecodeError\u001b[0m: Expecting value: line 1 column 1 (char 0)"
     ]
    }
   ],
   "source": [
    "with open(\"test.json\",\"w+\") as outfile:\n",
    "    data = json.load(outfile)\n",
    "    data.update(ans[0][1])\n",
    "    file.seek(0)\n",
    "    json.dump(data,outfile)"
   ]
  },
  {
   "cell_type": "code",
   "execution_count": null,
   "id": "atomic-bibliography",
   "metadata": {},
   "outputs": [],
   "source": []
  }
 ],
 "metadata": {
  "kernelspec": {
   "display_name": "Python 3",
   "language": "python",
   "name": "python3"
  },
  "language_info": {
   "codemirror_mode": {
    "name": "ipython",
    "version": 3
   },
   "file_extension": ".py",
   "mimetype": "text/x-python",
   "name": "python",
   "nbconvert_exporter": "python",
   "pygments_lexer": "ipython3",
   "version": "3.9.1"
  }
 },
 "nbformat": 4,
 "nbformat_minor": 5
}

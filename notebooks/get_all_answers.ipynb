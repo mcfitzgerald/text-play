{
 "cells": [
  {
   "cell_type": "code",
   "execution_count": 1,
   "id": "pretty-property",
   "metadata": {},
   "outputs": [
    {
     "name": "stdout",
     "output_type": "stream",
     "text": [
      "/Users/mikefitzgerald/Documents/GitHub/text-play\n"
     ]
    }
   ],
   "source": [
    "cd .."
   ]
  },
  {
   "cell_type": "code",
   "execution_count": 2,
   "id": "solid-instrumentation",
   "metadata": {},
   "outputs": [],
   "source": [
    "import utils.selenium_scroll as ss"
   ]
  },
  {
   "cell_type": "code",
   "execution_count": 3,
   "id": "fresh-subcommittee",
   "metadata": {},
   "outputs": [],
   "source": [
    "with open(\"sr_question_urls.txt\",\"r\") as f:\n",
    "    q_urls = [i.strip() for i in f]"
   ]
  },
  {
   "cell_type": "code",
   "execution_count": 4,
   "id": "julian-syntax",
   "metadata": {},
   "outputs": [
    {
     "data": {
      "text/plain": [
       "['https://quora.com/Have-you-ever-experienced-racism-from-a-liberal/answer/Dennis-Manning-9',\n",
       " 'https://quora.com/What-are-some-examples-of-institutional-racism-in-The-United-States/answer/Matthew-Bates-27',\n",
       " 'https://quora.com/What-are-some-examples-of-systemic-racism/answer/প্রত্যয়-ম-অধিকারী-Prottay-M-Adhikari',\n",
       " 'https://quora.com/Do-you-agree-that-black-people-cant-be-racist-Since-only-Africans-were-colonized-can-they-be-racists/answer/Habib-Fanny',\n",
       " 'https://quora.com/Is-Indias-perception-of-the-caste-system-similar-to-Americas-perception-of-racism/answer/பாலாஜி-விஸ்வநாதன்-Balaji-Viswanathan',\n",
       " 'https://quora.com/When-people-insist-that-the-US-is-a-systemically-racist-country-are-they-saying-that-racism-has-spread-and-permeated-widely-throughout-the-system-as-in-systemic-cancer-or-are-they-saying-something-else/answer/Claire-Jordan-10',\n",
       " 'https://quora.com/Why-is-White-America-so-afraid-of-Colin-Kaepernicks-protest/answer/Dennis-Manning-9',\n",
       " 'https://quora.com/Some-people-say-peaceful-protesters-should-be-distinguished-from-arsonists-looters-violent-rioters-and-police-attackers-Then-why-do-people-taint-the-entire-police-force-as-racists-not-distinguishing-bad-police/answer/Mike-Jones-169',\n",
       " 'https://quora.com/Is-there-such-thing-as-discrimination-racism-against-white-people/answer/Dennis-Manning-9',\n",
       " 'https://quora.com/What-is-racist-but-is-often-regarded-as-not-racist/answer/Mads-Olsen-3',\n",
       " 'https://quora.com/What-do-lawyers-think-of-systemic-racism/answer/Andrew-Weill',\n",
       " 'https://quora.com/As-a-conservative-what-do-you-think-about-this-article-Dear-white-people-your-dictionary-definition-of-racism-is-wrong/answer/Murphy-Barrett',\n",
       " 'https://quora.com/Why-did-the-police-in-Kenosha-let-an-underage-boy-circulate-with-a-firearm-and-didnt-even-attempt-to-check-on-him-after-the-shooting-Is-it-incompetence/answer/Al-Nelson',\n",
       " 'https://quora.com/What-are-your-thoughts-on-how-we-can-end-systematic-racism-in-the-US/answer/Judy-Parker-61',\n",
       " 'https://quora.com/Should-the-class-system-be-eventually-abolished-in-the-UK-Is-the-US-style-society-a-better-model-for-the-British/answer/Alec-Cawley',\n",
       " 'https://quora.com/Is-the-USA-the-most-racist-country-in-the-world/answer/Habib-Fanny',\n",
       " 'https://quora.com/What-bothers-you-the-most-about-racism/answer/Matthew-Bates-27',\n",
       " 'https://quora.com/Who-has-had-an-experience-with-a-non-white-racist/answer/Gabe-Beasley',\n",
       " 'https://quora.com/What-is-the-difference-between-western-white-racism-and-Chinese-racism/answer/Robert-Burton-7',\n",
       " 'https://quora.com/What-are-some-good-examples-of-racism-on-Quora/answer/Hanan-Baba',\n",
       " 'https://quora.com/Does-your-family-know-that-you-write-on-Quora/answer/Habib-Fanny',\n",
       " 'https://quora.com/Do-conservatives-Republicans-actually-believe-liberals-Democrats-are-more-racist-against-blacks-or-is-that-a-strategically-deployed-lie/answer/Anthony-Zarrella',\n",
       " 'https://quora.com/George-Zimmerman-and-Darren-Wilson-each-killed-a-person-in-self-defence-Zimmerman-was-tried-due-to-public-pressure-while-Wilson-got-off-despite-similar-pressure-Zimmerman-is-brown-Wilson-is-white-Is-this-actual/answer/Dennis-Manning-9',\n",
       " 'https://quora.com/Is-this-true-racism-prejudice-power-or-can-members-of-minorities-be-racist/answer/Habib-Fanny',\n",
       " 'https://quora.com/Why-does-Ben-Shapiro-only-debate-college-students/answer/Ian-Stephens-6',\n",
       " 'https://quora.com/Do-you-believe-that-victimhood-is-truly-prevalent-in-modern-American-society/answer/Charles-Clemens-3',\n",
       " 'https://quora.com/Why-aren-t-most-people-trying-to-solve-the-root-of-systemic-racism-by-directly-conversing-with-racist-Americans-Why-has-the-approach-become-mostly-a-shouting-match-versus-a-humane-attempt-to-actually-change-people-s/answer/Michael-Barnard-14',\n",
       " 'https://quora.com/Are-black-people-justified-to-hate-whites-due-to-slavery-and-continued-systemic-racism/answer/Chip-Kerr-1',\n",
       " 'https://quora.com/Someone-said-it-isnt-systematic-racism-it-is-systemic-racism-What-is-the-difference-between-the-two/answer/Dushka-Zapata',\n",
       " 'https://quora.com/Is-the-Varna-system-वर्ण-व्यवस्था-right-in-your-opinion-eye/answer/Akhilesh-Yaradal',\n",
       " 'https://quora.com/What-is-something-you-remember-from-childhood-and-realize-as-an-adult-was-something-totally-different-than-you-thought-it-was-at-the-time/answer/D-Kent-Deubner',\n",
       " 'https://quora.com/What-is-the-most-inappropriate-thing-ever-said-by-a-US-President-at-a-press-conference/answer/Bridget-McCrea-1',\n",
       " 'https://quora.com/Why-did-Donald-Trump-fall-so-far-behind-Joe-Biden/answer/Celia-Milton',\n",
       " 'https://quora.com/With-white-supremacists-running-for-office-can-we-state-this-as-proof-of-systemic-racism/answer/Danny-Cee-9',\n",
       " 'https://quora.com/What-do-you-think-of-Ilhan-Omar-calling-for-the-dismantlement-of-the-American-political-and-economic-systems-Are-you-on-board-with-that/answer/Mike-Jones-169',\n",
       " 'https://quora.com/Are-Canadians-watching-the-U-S-in-horror-and-consternation-as-Prime-Minister-Trudeau-says/answer/Michael-Barnard-14',\n",
       " 'https://quora.com/Is-Cracker-Barrel-a-good-representation-of-traditional-American-Southern-food/answer/Franklin-Veaux',\n",
       " 'https://quora.com/What-are-African-Americans-tired-of-explaining/answer/Bobby-Strick',\n",
       " 'https://quora.com/Is-Brazil-racist/answer/Khalid-Elhassan',\n",
       " 'https://quora.com/Who-is-the-most-overrated-world-leader/answer/Yvette-Renshy',\n",
       " 'https://quora.com/Why-do-people-use-their-minority-status-as-their-identifiers-rather-than-happenstance/answer/Habib-Fanny',\n",
       " 'https://quora.com/Is-overly-aggressive-policing-in-the-United-States-that-targets-minorities-the-result-of-a-few-bad-apples-or-is-it-systemic-Can-you-make-an-argument-for-your-position-on-what-needs-to-be-done/answer/Mike-Jones-169',\n",
       " 'https://quora.com/How-did-Adolf-Hitler-and-the-Nazis-feel-about-the-KKK-and-vice-versa-What-were-the-key-differences-between-European-racism-and-American-racism-at-the-time/answer/Cem-Arslan-2',\n",
       " 'https://quora.com/Why-is-affirmative-action-considered-legally-and-morally-just/answer/Dennis-Manning-9',\n",
       " 'https://quora.com/Have-you-become-immune-to-racism-after-facing-it-multiple-times/answer/Bobby-Strick',\n",
       " 'https://quora.com/Is-it-more-safe-to-live-in-the-UK-as-a-Black-person-compared-to-the-US/answer/Adrian-Hamilton',\n",
       " 'https://quora.com/Why-was-Gujarat-being-a-Development-Model-was-trapped-in-the-casteism-card-played-by-Congress/answer/பாலாஜி-விஸ்வநாதன்-Balaji-Viswanathan',\n",
       " 'https://quora.com/What-is-the-most-extreme-political-hypocrisy/answer/Jon-Davis-10',\n",
       " 'https://quora.com/Why-do-people-think-blacks-are-still-being-mistreated-In-my-experience-they-can-do-as-they-please-and-people-get-out-of-their-way-very-quickly/answer/Franklin-Veaux',\n",
       " 'https://quora.com/How-can-men-accept-that-they-cant-be-objectified-Feminism-doesn’t-define-objectification-of-men-as-something-women-do-to-men-but-as-the-by-product-of-male-power-fantasies/answer/Franklin-Veaux',\n",
       " 'https://quora.com/How-severe-is-racism-in-India/answer/Gaurav-Jain-9',\n",
       " 'https://quora.com/Why-dont-Trump-supporters-feel-sold-out-by-the-President-when-after-saying-Were-going-to-march-down-to-the-Capitol-and-Im-going-to-march-with-you-Trump-went-back-inside-the-White-House-and-watched-the-violence/answer/Feifei-Wang-6',\n",
       " 'https://quora.com/As-a-liberal-have-you-ever-been-criticized-for-not-being-far-enough-left/answer/Habib-Fanny',\n",
       " 'https://quora.com/Has-the-meaning-of-racism-been-changed-over-the-years/answer/Jon-Davis-10',\n",
       " 'https://quora.com/Biden-is-still-on-course-to-win-but-not-much-needs-to-change-for-Trump-to-gain-the-advantage-What-do-you-think/answer/Celia-Milton',\n",
       " 'https://quora.com/A-white-person-told-me-racism-never-existed-before-Obama-got-into-office-therefore-he-made-racism-How-can-people-be-this-oblivious/answer/Dan-Holliday',\n",
       " 'https://quora.com/Would-the-UK-be-a-really-wonderful-place-without-its-infamous-Class-System/answer/Barnaby-Lane',\n",
       " 'https://quora.com/Is-it-racist-to-work-on-Martin-Luther-King-Jr-Day/answer/Bobby-Strick',\n",
       " 'https://quora.com/Why-is-racism-still-prevalent-in-our-modern-society-when-we-already-know-that-all-mankind-is-of-the-same-tree-so-to-speak/answer/Andrew-Weill',\n",
       " 'https://quora.com/Would-strengthening-voter-identification-laws-help-restore-faith-in-American-elections/answer/Lee-Thé',\n",
       " 'https://quora.com/Whats-the-most-bizarre-political-opinion-s-you-hold/answer/Carrie-Cutler',\n",
       " 'https://quora.com/Why-arent-most-people-in-the-UK-that-interested-in-living-and-working-in-the-US-Most-British-would-rather-opt-for-EU-Canada-Australia-New-Zealand-and-Dubai-rather-than-trying-the-American-Dream-Only-Wanted-Down/answer/Richard-Cosgrove',\n",
       " 'https://quora.com/What-do-you-think-of-Sensei-Aishitemasu-s-statement-that-all-white-people-are-racist/answer/Dennis-Manning-9',\n",
       " 'https://quora.com/What-bothers-liberals-most-about-conservative-beliefs-or-mindsets/answer/Ishan-Devkota',\n",
       " 'https://quora.com/How-have-you-been-treated-by-the-police-in-America/answer/Feifei-Wang-6',\n",
       " 'https://quora.com/A-friend-told-me-recently-that-he-would-never-go-to-Europe-on-vacation-because-as-a-whole-it-s-racist-he-s-black-I-ve-never-heard-this-but-I-m-also-Caucasian-so-I-ve-never-experienced-or-seen-anything-discriminatory/answer/Brian-Anthony-107',\n",
       " 'https://quora.com/What-do-you-think-of-the-Republicans-lack-of-response-to-the-protests-and-Trump-s-latest-tweets/answer/Marian-Hubbard-1',\n",
       " 'https://quora.com/The-word-systemic-seems-to-be-thrown-around-quite-a-bit-when-speaking-about-social-issues-do-most-people-that-use-it-actually-know-what-it-really-means/answer/Matthew-Bates-27',\n",
       " 'https://quora.com/Is-the-Chinese-Communist-Party-funding-riots-in-the-USA/answer/Peter-Elliott-29',\n",
       " 'https://quora.com/When-did-systemic-racism-start-and-end/answer/Dennis-Manning-9',\n",
       " 'https://quora.com/Does-white-privilege-exist-If-so-what-is-it/answers/79966581',\n",
       " 'https://quora.com/Which-of-these-countries-Australia-Canada-Russia-USA-is-the-most-selective-when-accepting-immigrants/answer/Kenneth-Ednap',\n",
       " 'https://quora.com/Is-systemic-racism-masterminded/answer/Alex-Johnston-39',\n",
       " 'https://quora.com/Why-when-did-Europe-become-so-left-leaning/answer/Neil-Anderson-30',\n",
       " 'https://quora.com/Was-there-anything-in-which-the-Native-Americans-were-more-advanced-than-us/answer/Scott-Welch',\n",
       " 'https://quora.com/Do-you-believe-the-new-charges-for-Minneapolis-former-officers-were-influenced-by-protests-Why-or-why-not/answer/Christian-Winter',\n",
       " 'https://quora.com/What-is-not-racist-but-is-often-regarded-as-racist/answer/John-Colagioia',\n",
       " 'https://quora.com/What-dont-you-like-about-Canada/answer/Mike-Bowerbank',\n",
       " 'https://quora.com/Which-country-has-the-worst-systemic-racism-Im-not-talking-about-odd-cases-of-individual-racism/answer/আদিত্য-কবির-Aditya-Kabir',\n",
       " 'https://quora.com/Can-Democrats-give-a-straight-answer-as-to-whether-all-lives-matter/answer/Mark-VandeWettering',\n",
       " 'https://quora.com/How-good-of-a-government-would-National-Socialism-have-been-were-not-for-the-racist-factor/answer/John-Cate-2',\n",
       " 'https://quora.com/As-a-conservative-what-are-your-definitions-of-a-racist-and-what-is-racism/answer/Brady-Postma',\n",
       " 'https://quora.com/What-do-you-think-about-Jordan-Petersons-claim-that-white-privilege-doesnt-exist/answer/Dennis-Manning-9',\n",
       " 'https://quora.com/Was-H-Ms-sweatshirt-debacle-intentional-racism-or-culturally-unaware/answer/Erica-Friedman',\n",
       " 'https://quora.com/Is-it-misleading-for-some-people-to-say-black-people-are-causing-more-racism-in-America-today/answer/Sonya-Abarcar',\n",
       " 'https://quora.com/Will-the-protests-in-the-USA-and-across-the-world-in-response-to-the-killing-of-George-Floyd-and-the-endemic-racism-and-injustice-in-the-American-society-result-in-the-systemic-change-that-is-needed-for-justice-and/answer/Charles-Clemens-3',\n",
       " 'https://quora.com/Is-anti-liberalism-the-connection-between-Trump-Putin-and-other-authoritarian-leaders-in-the-21st-century/answer/Al-Nelson',\n",
       " 'https://quora.com/Are-Malaysians-really-as-racist-and-intolerable-to-one-another-as-the-media-portrays-them-to-be/answer/Muddassir-Masihuddin',\n",
       " 'https://quora.com/Is-a-race-war-in-America-a-real-possibility/answer/Jon-Michael-Sakamoto',\n",
       " 'https://quora.com/What-is-the-most-shocking-news-story-you-heard-this-year-so-far/answer/Rahul-Chauhan-20',\n",
       " 'https://quora.com/What-images-will-change-the-way-a-person-sees-the-world-after-viewing-them/answer/Manohar-Mano-1',\n",
       " 'https://quora.com/What-do-royal-commentators-mean-by-saying-Prince-Harry-is-waging-war-on-social-media/answer/Vivian-Leese',\n",
       " 'https://quora.com/Why-is-systemic-racism-so-contentious/answer/Dennis-Manning-9',\n",
       " 'https://quora.com/Was-Rhodesia-a-racist-state/answer/Sonya-Abarcar',\n",
       " 'https://quora.com/What-is-systemic-socialist-racism/answer/Chrysaor-Jordan',\n",
       " 'https://quora.com/What-is-common-knowledge-about-being-a-white-person-in-the-USA-thats-false/answer/J-L-Van-Dijk',\n",
       " 'https://quora.com/As-a-Canadian-would-you-consider-moving-to-the-United-States-Why-or-why-not/answer/Perry-Newhook-1',\n",
       " 'https://quora.com/What-does-racism-mean-in-the-21st-century/answer/Habib-Fanny',\n",
       " 'https://quora.com/Do-you-really-think-that-these-recent-protests-riots-across-the-US-are-driven-by-Antifa-If-so-what-does-this-mean-for-our-nation/answer/Al-Nelson',\n",
       " 'https://quora.com/How-can-one-address-delicate-issues-like-black-on-black-crime-and-the-problem-with-looting-on-protests-in-a-way-thats-still-clearly-100-anti-racist-acknowledging-systemic-racism-social-injustices-and-so-forth/answer/Scott-Welch']"
      ]
     },
     "execution_count": 4,
     "metadata": {},
     "output_type": "execute_result"
    }
   ],
   "source": [
    "q_urls"
   ]
  },
  {
   "cell_type": "code",
   "execution_count": 13,
   "id": "dynamic-president",
   "metadata": {},
   "outputs": [],
   "source": [
    "q_responses = []"
   ]
  },
  {
   "cell_type": "code",
   "execution_count": 15,
   "id": "varied-entertainment",
   "metadata": {},
   "outputs": [
    {
     "name": "stdout",
     "output_type": "stream",
     "text": [
      "scrolling...\n",
      "scrolling...\n",
      "end of page reached\n",
      "scrolling...\n",
      "scrolling...\n",
      "end of page reached\n",
      "scrolling...\n",
      "scrolling...\n",
      "end of page reached\n",
      "scrolling...\n",
      "scrolling...\n",
      "end of page reached\n",
      "scrolling...\n",
      "scrolling...\n",
      "end of page reached\n",
      "scrolling...\n",
      "scrolling...\n",
      "end of page reached\n",
      "scrolling...\n",
      "scrolling...\n",
      "end of page reached\n",
      "scrolling...\n",
      "scrolling...\n",
      "end of page reached\n",
      "scrolling...\n",
      "scrolling...\n",
      "end of page reached\n",
      "scrolling...\n",
      "scrolling...\n",
      "end of page reached\n",
      "scrolling...\n",
      "scrolling...\n",
      "end of page reached\n",
      "scrolling...\n",
      "scrolling...\n",
      "end of page reached\n",
      "scrolling...\n",
      "scrolling...\n",
      "end of page reached\n",
      "scrolling...\n",
      "scrolling...\n",
      "end of page reached\n",
      "scrolling...\n",
      "scrolling...\n",
      "end of page reached\n",
      "scrolling...\n",
      "scrolling...\n",
      "end of page reached\n",
      "scrolling...\n",
      "scrolling...\n",
      "end of page reached\n",
      "scrolling...\n",
      "scrolling...\n",
      "end of page reached\n",
      "scrolling...\n",
      "scrolling...\n",
      "end of page reached\n",
      "scrolling...\n",
      "scrolling...\n",
      "end of page reached\n",
      "scrolling...\n",
      "scrolling...\n",
      "end of page reached\n",
      "scrolling...\n",
      "scrolling...\n",
      "end of page reached\n",
      "scrolling...\n",
      "scrolling...\n",
      "end of page reached\n",
      "scrolling...\n",
      "scrolling...\n",
      "end of page reached\n",
      "scrolling...\n",
      "scrolling...\n",
      "end of page reached\n",
      "scrolling...\n",
      "scrolling...\n",
      "end of page reached\n",
      "scrolling...\n",
      "scrolling...\n",
      "end of page reached\n",
      "scrolling...\n",
      "scrolling...\n",
      "end of page reached\n",
      "scrolling...\n",
      "scrolling...\n",
      "end of page reached\n",
      "scrolling...\n",
      "scrolling...\n",
      "end of page reached\n",
      "scrolling...\n",
      "scrolling...\n",
      "end of page reached\n",
      "scrolling...\n",
      "scrolling...\n",
      "end of page reached\n",
      "scrolling...\n",
      "scrolling...\n",
      "end of page reached\n",
      "scrolling...\n",
      "scrolling...\n",
      "end of page reached\n",
      "scrolling...\n",
      "scrolling...\n",
      "end of page reached\n",
      "scrolling...\n",
      "scrolling...\n",
      "end of page reached\n",
      "scrolling...\n",
      "scrolling...\n",
      "end of page reached\n",
      "scrolling...\n",
      "scrolling...\n",
      "end of page reached\n",
      "scrolling...\n",
      "scrolling...\n",
      "end of page reached\n",
      "scrolling...\n",
      "scrolling...\n",
      "end of page reached\n",
      "scrolling...\n",
      "scrolling...\n",
      "end of page reached\n",
      "scrolling...\n",
      "scrolling...\n",
      "end of page reached\n",
      "scrolling...\n",
      "scrolling...\n",
      "end of page reached\n",
      "scrolling...\n",
      "scrolling...\n",
      "end of page reached\n",
      "scrolling...\n",
      "scrolling...\n",
      "end of page reached\n",
      "scrolling...\n",
      "scrolling...\n",
      "end of page reached\n",
      "scrolling...\n",
      "scrolling...\n",
      "end of page reached\n",
      "scrolling...\n",
      "scrolling...\n",
      "end of page reached\n",
      "scrolling...\n",
      "scrolling...\n",
      "end of page reached\n",
      "scrolling...\n",
      "scrolling...\n",
      "end of page reached\n",
      "scrolling...\n",
      "scrolling...\n",
      "end of page reached\n",
      "scrolling...\n",
      "scrolling...\n",
      "end of page reached\n",
      "scrolling...\n",
      "scrolling...\n",
      "end of page reached\n",
      "scrolling...\n",
      "scrolling...\n",
      "end of page reached\n",
      "scrolling...\n",
      "scrolling...\n",
      "end of page reached\n",
      "scrolling...\n",
      "scrolling...\n",
      "end of page reached\n",
      "scrolling...\n",
      "scrolling...\n",
      "end of page reached\n",
      "scrolling...\n",
      "scrolling...\n",
      "end of page reached\n",
      "scrolling...\n",
      "scrolling...\n",
      "end of page reached\n",
      "scrolling...\n",
      "scrolling...\n",
      "end of page reached\n",
      "scrolling...\n",
      "scrolling...\n",
      "end of page reached\n",
      "scrolling...\n",
      "scrolling...\n",
      "end of page reached\n",
      "scrolling...\n",
      "scrolling...\n",
      "end of page reached\n",
      "scrolling...\n",
      "scrolling...\n",
      "end of page reached\n",
      "scrolling...\n",
      "scrolling...\n",
      "end of page reached\n",
      "scrolling...\n",
      "scrolling...\n",
      "end of page reached\n",
      "scrolling...\n",
      "scrolling...\n",
      "end of page reached\n",
      "scrolling...\n",
      "scrolling...\n",
      "end of page reached\n",
      "scrolling...\n",
      "scrolling...\n",
      "end of page reached\n",
      "scrolling...\n",
      "scrolling...\n",
      "end of page reached\n",
      "scrolling...\n",
      "scrolling...\n",
      "end of page reached\n",
      "scrolling...\n",
      "scrolling...\n",
      "end of page reached\n",
      "scrolling...\n",
      "scrolling...\n",
      "end of page reached\n",
      "scrolling...\n",
      "scrolling...\n",
      "end of page reached\n",
      "scrolling...\n",
      "scrolling...\n",
      "end of page reached\n",
      "scrolling...\n",
      "scrolling...\n",
      "end of page reached\n",
      "scrolling...\n",
      "scrolling...\n",
      "end of page reached\n",
      "scrolling...\n",
      "scrolling...\n",
      "end of page reached\n",
      "scrolling...\n",
      "scrolling...\n",
      "end of page reached\n",
      "scrolling...\n",
      "scrolling...\n",
      "end of page reached\n",
      "scrolling...\n",
      "scrolling...\n",
      "end of page reached\n",
      "scrolling...\n",
      "scrolling...\n",
      "end of page reached\n",
      "scrolling...\n",
      "scrolling...\n",
      "end of page reached\n",
      "scrolling...\n",
      "scrolling...\n",
      "end of page reached\n",
      "scrolling...\n",
      "scrolling...\n",
      "end of page reached\n",
      "scrolling...\n",
      "scrolling...\n",
      "end of page reached\n",
      "scrolling...\n",
      "scrolling...\n",
      "end of page reached\n",
      "scrolling...\n",
      "scrolling...\n",
      "end of page reached\n",
      "scrolling...\n",
      "scrolling...\n",
      "end of page reached\n",
      "scrolling...\n",
      "scrolling...\n",
      "end of page reached\n",
      "scrolling...\n",
      "scrolling...\n",
      "end of page reached\n",
      "scrolling...\n",
      "scrolling...\n",
      "end of page reached\n",
      "scrolling...\n",
      "scrolling...\n",
      "end of page reached\n",
      "scrolling...\n",
      "scrolling...\n",
      "end of page reached\n",
      "scrolling...\n",
      "scrolling...\n",
      "end of page reached\n",
      "scrolling...\n",
      "scrolling...\n",
      "end of page reached\n",
      "scrolling...\n",
      "scrolling...\n",
      "end of page reached\n",
      "scrolling...\n",
      "scrolling...\n",
      "end of page reached\n",
      "scrolling...\n",
      "scrolling...\n",
      "end of page reached\n",
      "scrolling...\n",
      "scrolling...\n",
      "end of page reached\n"
     ]
    }
   ],
   "source": [
    "for i in q_urls:\n",
    "    try:\n",
    "        q_responses.append(ss.get_source(i))\n",
    "    except:\n",
    "        print(\"no response\")\n",
    "        q_reponses.append(\"no response\")\n",
    "        continue"
   ]
  },
  {
   "cell_type": "code",
   "execution_count": 16,
   "id": "raised-coach",
   "metadata": {},
   "outputs": [
    {
     "data": {
      "text/plain": [
       "100"
      ]
     },
     "execution_count": 16,
     "metadata": {},
     "output_type": "execute_result"
    }
   ],
   "source": [
    "len(q_responses)"
   ]
  },
  {
   "cell_type": "code",
   "execution_count": 19,
   "id": "union-infrastructure",
   "metadata": {},
   "outputs": [],
   "source": [
    "import re"
   ]
  },
  {
   "cell_type": "code",
   "execution_count": 22,
   "id": "surrounded-bloom",
   "metadata": {},
   "outputs": [],
   "source": [
    "import json"
   ]
  },
  {
   "cell_type": "code",
   "execution_count": 20,
   "id": "robust-tumor",
   "metadata": {},
   "outputs": [],
   "source": [
    "# regex to pull json data sections out -- might not be relevant if Quora changes their code\n",
    "pull_json = re.compile(r\"\\\"\\{\\\\\\\"data\\\\\\\".*?(?=\\;(\\r\\n|\\r|\\n)window)\")"
   ]
  },
  {
   "cell_type": "code",
   "execution_count": 21,
   "id": "final-basics",
   "metadata": {},
   "outputs": [],
   "source": [
    "json_pulls = []"
   ]
  },
  {
   "cell_type": "code",
   "execution_count": 23,
   "id": "freelance-found",
   "metadata": {},
   "outputs": [],
   "source": [
    "for i in q_responses:\n",
    "    # get matches\n",
    "    matches = [j.group() for j in pull_json.finditer(i)]\n",
    "    # select & 'jsonify' relevant json section \n",
    "    # there 3 json section in the source, only the last one is relevant\n",
    "    # append it to the list\n",
    "    json_pulls.append(json.loads(json.loads(matches[2])))    "
   ]
  },
  {
   "cell_type": "code",
   "execution_count": 42,
   "id": "ultimate-scheduling",
   "metadata": {},
   "outputs": [
    {
     "data": {
      "text/plain": [
       "{'data': {'answer': {'id': 'QW5zd2VyQDA6MTA3OTY0MDg1',\n",
       "   '__typename': 'Answer',\n",
       "   'aid': 107964085,\n",
       "   'viewerIsAuthor': False,\n",
       "   'isVisible': True,\n",
       "   'numSharers': 5,\n",
       "   'shouldShowSharePrompt': False,\n",
       "   'viewer': {'useReactQuoraShareModal': True,\n",
       "    'id': 'Vmlld2VyQDA6MA==',\n",
       "    '__typename': 'Viewer',\n",
       "    'uid': None,\n",
       "    'user': None,\n",
       "    'bundleSubscription': None,\n",
       "    'directSubscriptions': [],\n",
       "    'canReviewAnswers': False},\n",
       "   'creationTime': 1542166387187415,\n",
       "   'updatedTime': 0,\n",
       "   'author': {'id': 'VXNlckAwOjI4NTAyNDA5Mg==',\n",
       "    '__typename': 'User',\n",
       "    'uid': 285024092,\n",
       "    'isAnon': False,\n",
       "    'profileImageUrl': 'https://qph.fs.quoracdn.net/main-thumb-285024092-200-dgftoointueidthyjcytdebpeymslohv.jpeg',\n",
       "    'isVerified': False,\n",
       "    'businessStatus': None,\n",
       "    'profileUrl': '/profile/Dennis-Manning-9',\n",
       "    'useTranslatedName': False,\n",
       "    'names': [{'__typename': 'UserName',\n",
       "      'id': 'VXNlck5hbWU6Mjg1MDI0MDkyOkxBVE4=',\n",
       "      'reverseOrder': False,\n",
       "      'givenName': 'Dennis',\n",
       "      'familyName': 'Manning',\n",
       "      'scriptCode': 'LATN'}],\n",
       "    'adminNames': [],\n",
       "    'bundleSubscriptionStatus': 3},\n",
       "   'authorCredential': {'id': 'V29ya0NyZWRlbnRpYWxAMDozOTA1MDEzMw==',\n",
       "    '__typename': 'WorkCredential',\n",
       "    'credentialId': 39050133,\n",
       "    'translatedString': 'Occasional superhero, veteran, family man!',\n",
       "    'position': 'Occasional superhero, veteran, family man!',\n",
       "    'startYear': None,\n",
       "    'endYear': '-1',\n",
       "    'isDefault': False,\n",
       "    'isBad': False,\n",
       "    'isEnqueued': False,\n",
       "    'company': None},\n",
       "   'isTranslated': False,\n",
       "   'permaUrl': '/Have-you-ever-experienced-racism-from-a-liberal/answer/Dennis-Manning-9',\n",
       "   'isOwnTranslation': False,\n",
       "   'debugInfo': '{}',\n",
       "   'question': {'id': 'UXVlc3Rpb25AMDozMzQ0Njc3Mg==',\n",
       "    '__typename': 'Question',\n",
       "    'qid': 33446772,\n",
       "    'isDeleted': False,\n",
       "    'url': '/Have-you-ever-experienced-racism-from-a-liberal',\n",
       "    'answerCount': 43,\n",
       "    'title': '{\"sections\": [{\"spans\": [{\"text\": \"Have you ever experienced racism from a liberal?\", \"modifiers\": {}}], \"indent\": 0, \"quoted\": false, \"type\": \"plain\", \"is_rtl\": false}]}',\n",
       "    'isPartnerQuestion': False,\n",
       "    'asker': {'id': 'VXNlckAwOjUwNjc4MzEy',\n",
       "     '__typename': 'User',\n",
       "     'isEmployee': False},\n",
       "    'debugInfo': '{}',\n",
       "    'tribeItem': None,\n",
       "    'viewer': {'id': 'Vmlld2VyQDA6MA==', '__typename': 'Viewer', 'uid': None},\n",
       "    'network': {'nid': 0, 'id': 'TmV0d29yazow'},\n",
       "    'sourceUrl': None,\n",
       "    'hadDetails': False,\n",
       "    'viewerDisplayCredential': None},\n",
       "   'credibilityFacts': [{'id': 'QXV0aG9ySW5mb0ZhY3RAMDoxMDc5NjQwODU6WzEwMDQ1LCA2MjM2MzY4OF0=',\n",
       "     '__typename': 'AuthorInfoFact',\n",
       "     'viewCount': 62363688,\n",
       "     'answerCount': 10045}],\n",
       "   'sourceNetwork': None,\n",
       "   'sourceQuestion': None,\n",
       "   'sourceAnswer': None,\n",
       "   'tribeItem': None,\n",
       "   'businessCredential': None,\n",
       "   'businessAnswer': None,\n",
       "   'viewerHasUpvoted': False,\n",
       "   'numSocialVoters': 0,\n",
       "   'numUpvotes': 1305,\n",
       "   'socialVoterNames': [],\n",
       "   'socialVoterPhotos': [],\n",
       "   'isDeleted': False,\n",
       "   'viewerCanRestoreAnswer': False,\n",
       "   'showAskerSatisfactionSurvey': False,\n",
       "   'suggestedEdit': None,\n",
       "   'content': '{\"sections\": [{\"spans\": [{\"text\": \"Any time I\\'ve heard:\", \"modifiers\": {}}], \"indent\": 0, \"quoted\": false, \"type\": \"plain\", \"is_rtl\": false}, {\"spans\": [{\"text\": \"\\\\u201cOnly white people can be racist.\\\\u201d\", \"modifiers\": {}}], \"indent\": 0, \"quoted\": false, \"type\": \"plain\", \"is_rtl\": false}, {\"spans\": [{\"text\": \"\\\\u201cEnjoy your white privilege.\\\\u201d\", \"modifiers\": {}}], \"indent\": 0, \"quoted\": false, \"type\": \"plain\", \"is_rtl\": false}, {\"spans\": [{\"text\": \"\\\\u201cRacism is in a white person\\'s DNA. \\\\u201c\", \"modifiers\": {}}], \"indent\": 0, \"quoted\": false, \"type\": \"plain\", \"is_rtl\": false}, {\"spans\": [{\"text\": \"\\\\u201cBlacks have a right to loot and vandalize because of systemic inequities your people caused.\\\\u201d\", \"modifiers\": {}}], \"indent\": 0, \"quoted\": false, \"type\": \"plain\", \"is_rtl\": false}, {\"spans\": [{\"text\": \"\\\\u201cYou don\\'t get to weigh in. You\\'re a white male.\\\\u201d\", \"modifiers\": {}}], \"indent\": 0, \"quoted\": false, \"type\": \"plain\", \"is_rtl\": false}, {\"spans\": [{\"text\": \"All of those statements are racist.\", \"modifiers\": {\"bold\": true}}], \"indent\": 0, \"quoted\": false, \"type\": \"plain\", \"is_rtl\": false}]}',\n",
       "   'isSensitive': False,\n",
       "   'monetizationAccessOption': None,\n",
       "   'numViews': 7069,\n",
       "   'isNotForReproduction': False,\n",
       "   'moderationCollapseType': None,\n",
       "   'hasDisclaimer': False,\n",
       "   'disclaimer': None,\n",
       "   'numRequesters': 1,\n",
       "   'requesters': [{'id': 'VXNlckAwOjUwNjc4MzEy',\n",
       "     '__typename': 'User',\n",
       "     'uid': 50678312,\n",
       "     'isAnon': False,\n",
       "     'useTranslatedName': False,\n",
       "     'names': [{'__typename': 'UserName',\n",
       "       'id': 'VXNlck5hbWU6NTA2NzgzMTI6TEFUTg==',\n",
       "       'reverseOrder': False,\n",
       "       'givenName': 'Henry',\n",
       "       'familyName': 'Miner',\n",
       "       'scriptCode': 'LATN'}],\n",
       "     'adminNames': [],\n",
       "     'profileUrl': '/profile/Henry-Miner'}],\n",
       "   'isCommentsDisabled': False,\n",
       "   'isCollapsedForViewer': False,\n",
       "   'isModerationLocked': False,\n",
       "   'moderationCollapseTypeUrl': None,\n",
       "   'network': {'id': 'TmV0d29yazow',\n",
       "    '__typename': 'Network',\n",
       "    'contentLanguageCode': 'en'},\n",
       "   'collapseOperation': None,\n",
       "   'originalQuestionIfDifferent': None,\n",
       "   'viewerShouldPromptTopicBio': False},\n",
       "  'viewer': {'id': 'Vmlld2VyQDA6MA==', '__typename': 'Viewer', 'user': None},\n",
       "  'notifInjectedBundleFromSncid': None},\n",
       " 'broadcastId': 'main-w-chan50-8888-react_qsnwujwyqmafgsgi-EPLG',\n",
       " 'tchannelData': {'minSeq': '0',\n",
       "  'channel': 'main-w-chan50-8888-react_qsnwujwyqmafgsgi-EPLG',\n",
       "  'channelHash': '8794842478166832057',\n",
       "  'boxName': 'chan50-8888',\n",
       "  'baseHost': 'quora.com',\n",
       "  'targetUrl': '',\n",
       "  'enableWebsocket': True},\n",
       " 'broadcastData': {'categoryToDepkeys': {'Viewer:isUniversalLoggedIn:Vmlld2VyQDA6MA==': ['LIUB:beb74d1542c01916c014ffb1b984acab',\n",
       "    'LIUS:c318412dd345133f65d3b020dd334013']},\n",
       "  'depkeyToVersion': {'LIUS:c318412dd345133f65d3b020dd334013': 0,\n",
       "   'LIUB:beb74d1542c01916c014ffb1b984acab': 0}}}"
      ]
     },
     "execution_count": 42,
     "metadata": {},
     "output_type": "execute_result"
    }
   ],
   "source": [
    "json_pulls[0]"
   ]
  },
  {
   "cell_type": "code",
   "execution_count": 32,
   "id": "stretch-forum",
   "metadata": {},
   "outputs": [],
   "source": [
    "mkdir json_answers"
   ]
  },
  {
   "cell_type": "code",
   "execution_count": 35,
   "id": "involved-disorder",
   "metadata": {},
   "outputs": [
    {
     "name": "stdout",
     "output_type": "stream",
     "text": [
      "/Users/mikefitzgerald/Documents/GitHub/text-play/json_answers\n"
     ]
    }
   ],
   "source": [
    "cd json_answers/"
   ]
  },
  {
   "cell_type": "code",
   "execution_count": 39,
   "id": "logical-indiana",
   "metadata": {},
   "outputs": [
    {
     "data": {
      "text/plain": [
       "'Have-you-ever-experienced-racism-from-a-liberal'"
      ]
     },
     "execution_count": 39,
     "metadata": {},
     "output_type": "execute_result"
    }
   ],
   "source": [
    "q_urls[0].split('/')[3]"
   ]
  },
  {
   "cell_type": "code",
   "execution_count": 40,
   "id": "permanent-chapter",
   "metadata": {},
   "outputs": [
    {
     "data": {
      "text/plain": [
       "'Have-you-ever-experienced-racism-from-a-liberal.json'"
      ]
     },
     "execution_count": 40,
     "metadata": {},
     "output_type": "execute_result"
    }
   ],
   "source": [
    "q_urls[0].split('/')[3] + \".json\""
   ]
  },
  {
   "cell_type": "code",
   "execution_count": 44,
   "id": "incorporate-health",
   "metadata": {},
   "outputs": [],
   "source": [
    "#dump jsons -- useful meta info\n",
    "for i in range(len(json_pulls)):\n",
    "    filename = q_urls[i].split('/')[3] + \".json\"\n",
    "    with open(filename,\"w+\") as f:\n",
    "        json.dump(json_pulls[i],f)"
   ]
  },
  {
   "cell_type": "code",
   "execution_count": 45,
   "id": "banner-geography",
   "metadata": {},
   "outputs": [],
   "source": [
    "from bs4 import BeautifulSoup"
   ]
  },
  {
   "cell_type": "code",
   "execution_count": 50,
   "id": "quarterly-orleans",
   "metadata": {},
   "outputs": [],
   "source": [
    "def full_ans(paras):\n",
    "    anscat = []\n",
    "    for i in paras:\n",
    "        for j in i.find_all(\"span\"):\n",
    "            anscat.append(j.text)\n",
    "    return \" \".join(anscat)"
   ]
  },
  {
   "cell_type": "code",
   "execution_count": 51,
   "id": "differential-stone",
   "metadata": {},
   "outputs": [],
   "source": [
    "def get_paras(resp):\n",
    "    soup = BeautifulSoup(resp,'lxml')\n",
    "    return soup.find_all(\"p\",{\"class\":\"q-text qu-display--block\"})"
   ]
  },
  {
   "cell_type": "code",
   "execution_count": 54,
   "id": "freelance-transcription",
   "metadata": {},
   "outputs": [],
   "source": [
    "stew = []\n",
    "for i in q_responses:\n",
    "    stew.append(full_ans(get_paras(i)))"
   ]
  },
  {
   "cell_type": "code",
   "execution_count": 58,
   "id": "prerequisite-theater",
   "metadata": {},
   "outputs": [
    {
     "data": {
      "text/plain": [
       "'No. Not only do I disagree; I actually find this extremely insulting. I’m not your noble savage; I am an individual with a sense of agency. My race is not deterministic of my behavior. There are white people I have power over. I could discriminate against them to favor blacks; I don’t. And it’s not because I’m incapable of being racist or feeling racial resentment. But, but , I hear you say,  racism only means systemic racism. And black people don’t have the power to enact systemic racism against others. So, however you define it, black people can exhibit racism.'"
      ]
     },
     "execution_count": 58,
     "metadata": {},
     "output_type": "execute_result"
    }
   ],
   "source": [
    "stew[3]"
   ]
  },
  {
   "cell_type": "code",
   "execution_count": 59,
   "id": "sapphire-meaning",
   "metadata": {},
   "outputs": [],
   "source": [
    "mkdir text_answers"
   ]
  },
  {
   "cell_type": "code",
   "execution_count": 60,
   "id": "owned-biography",
   "metadata": {},
   "outputs": [
    {
     "name": "stdout",
     "output_type": "stream",
     "text": [
      "/Users/mikefitzgerald/Documents/GitHub/text-play/json_answers/text_answers\n"
     ]
    }
   ],
   "source": [
    "cd text_answers"
   ]
  },
  {
   "cell_type": "code",
   "execution_count": 61,
   "id": "underlying-leadership",
   "metadata": {},
   "outputs": [],
   "source": [
    "for i in range(len(stew)):\n",
    "    filename = q_urls[i].split('/')[3] + \".txt\"\n",
    "    with open(filename,\"w+\") as f:\n",
    "        f.write(stew[i])"
   ]
  },
  {
   "cell_type": "code",
   "execution_count": 64,
   "id": "narrative-amino",
   "metadata": {},
   "outputs": [
    {
     "name": "stdout",
     "output_type": "stream",
     "text": [
      "/Users/mikefitzgerald/Documents/GitHub/text-play/json_answers\n"
     ]
    }
   ],
   "source": [
    "cd .."
   ]
  },
  {
   "cell_type": "code",
   "execution_count": 65,
   "id": "legitimate-worst",
   "metadata": {},
   "outputs": [],
   "source": [
    "mv text_answers/ ../"
   ]
  },
  {
   "cell_type": "code",
   "execution_count": 66,
   "id": "injured-terry",
   "metadata": {},
   "outputs": [],
   "source": [
    "import pandas as pd"
   ]
  },
  {
   "cell_type": "code",
   "execution_count": 72,
   "id": "standing-observation",
   "metadata": {},
   "outputs": [
    {
     "data": {
      "text/plain": [
       "['id',\n",
       " '__typename',\n",
       " 'aid',\n",
       " 'viewerIsAuthor',\n",
       " 'isVisible',\n",
       " 'numSharers',\n",
       " 'shouldShowSharePrompt',\n",
       " 'viewer',\n",
       " 'creationTime',\n",
       " 'updatedTime',\n",
       " 'author',\n",
       " 'authorCredential',\n",
       " 'isTranslated',\n",
       " 'permaUrl',\n",
       " 'isOwnTranslation',\n",
       " 'debugInfo',\n",
       " 'question',\n",
       " 'credibilityFacts',\n",
       " 'sourceNetwork',\n",
       " 'sourceQuestion',\n",
       " 'sourceAnswer',\n",
       " 'tribeItem',\n",
       " 'businessCredential',\n",
       " 'businessAnswer',\n",
       " 'viewerHasUpvoted',\n",
       " 'numSocialVoters',\n",
       " 'numUpvotes',\n",
       " 'socialVoterNames',\n",
       " 'socialVoterPhotos',\n",
       " 'isDeleted',\n",
       " 'viewerCanRestoreAnswer',\n",
       " 'showAskerSatisfactionSurvey',\n",
       " 'suggestedEdit',\n",
       " 'content',\n",
       " 'isSensitive',\n",
       " 'monetizationAccessOption',\n",
       " 'numViews',\n",
       " 'isNotForReproduction',\n",
       " 'moderationCollapseType',\n",
       " 'hasDisclaimer',\n",
       " 'disclaimer',\n",
       " 'numRequesters',\n",
       " 'requesters',\n",
       " 'isCommentsDisabled',\n",
       " 'isCollapsedForViewer',\n",
       " 'isModerationLocked',\n",
       " 'moderationCollapseTypeUrl',\n",
       " 'network',\n",
       " 'collapseOperation',\n",
       " 'originalQuestionIfDifferent',\n",
       " 'viewerShouldPromptTopicBio']"
      ]
     },
     "execution_count": 72,
     "metadata": {},
     "output_type": "execute_result"
    }
   ],
   "source": [
    "list(json_pulls[0]['data']['answer'])"
   ]
  },
  {
   "cell_type": "code",
   "execution_count": 73,
   "id": "arabic-commander",
   "metadata": {},
   "outputs": [
    {
     "data": {
      "text/plain": [
       "1305"
      ]
     },
     "execution_count": 73,
     "metadata": {},
     "output_type": "execute_result"
    }
   ],
   "source": [
    "json_pulls[0]['data']['answer']['numUpvotes']"
   ]
  },
  {
   "cell_type": "code",
   "execution_count": 76,
   "id": "configured-collapse",
   "metadata": {},
   "outputs": [
    {
     "data": {
      "text/plain": [
       "1542166387187415"
      ]
     },
     "execution_count": 76,
     "metadata": {},
     "output_type": "execute_result"
    }
   ],
   "source": [
    "#unix epoch\n",
    "json_pulls[0]['data']['answer']['creationTime']"
   ]
  },
  {
   "cell_type": "code",
   "execution_count": 78,
   "id": "excited-toolbox",
   "metadata": {},
   "outputs": [
    {
     "data": {
      "text/plain": [
       "[{'id': 'QXV0aG9ySW5mb0ZhY3RAMDoxMDc5NjQwODU6WzEwMDQ1LCA2MjM2MzY4OF0=',\n",
       "  '__typename': 'AuthorInfoFact',\n",
       "  'viewCount': 62363688,\n",
       "  'answerCount': 10045}]"
      ]
     },
     "execution_count": 78,
     "metadata": {},
     "output_type": "execute_result"
    }
   ],
   "source": [
    "json_pulls[0]['data']['answer']['credibilityFacts']"
   ]
  },
  {
   "cell_type": "code",
   "execution_count": 79,
   "id": "driven-signature",
   "metadata": {},
   "outputs": [
    {
     "data": {
      "text/plain": [
       "7069"
      ]
     },
     "execution_count": 79,
     "metadata": {},
     "output_type": "execute_result"
    }
   ],
   "source": [
    "json_pulls[0]['data']['answer']['numViews']"
   ]
  },
  {
   "cell_type": "code",
   "execution_count": 80,
   "id": "variable-train",
   "metadata": {},
   "outputs": [
    {
     "data": {
      "text/plain": [
       "{'id': 'TmV0d29yazow', '__typename': 'Network', 'contentLanguageCode': 'en'}"
      ]
     },
     "execution_count": 80,
     "metadata": {},
     "output_type": "execute_result"
    }
   ],
   "source": [
    "json_pulls[0]['data']['answer']['network']"
   ]
  },
  {
   "cell_type": "code",
   "execution_count": 81,
   "id": "excited-detector",
   "metadata": {},
   "outputs": [],
   "source": [
    "upvotes = [i['data']['answer']['numUpvotes'] for i in json_pulls]"
   ]
  },
  {
   "cell_type": "code",
   "execution_count": 82,
   "id": "nutritional-chapel",
   "metadata": {},
   "outputs": [],
   "source": [
    "epoch_times = [i['data']['answer']['creationTime'] for i in json_pulls]"
   ]
  },
  {
   "cell_type": "code",
   "execution_count": 83,
   "id": "dying-shelf",
   "metadata": {},
   "outputs": [],
   "source": [
    "views = [i['data']['answer']['numViews'] for i in json_pulls]"
   ]
  },
  {
   "cell_type": "code",
   "execution_count": 84,
   "id": "handy-setting",
   "metadata": {},
   "outputs": [],
   "source": [
    "import datetime"
   ]
  },
  {
   "cell_type": "code",
   "execution_count": 112,
   "id": "cardiac-manhattan",
   "metadata": {},
   "outputs": [],
   "source": [
    "date = [datetime.datetime.fromtimestamp(i/1000000).strftime('%Y-%m-%d %H:%M:%S') for i in epoch_times]"
   ]
  },
  {
   "cell_type": "code",
   "execution_count": 120,
   "id": "documented-valve",
   "metadata": {},
   "outputs": [],
   "source": [
    "df = pd.DataFrame()"
   ]
  },
  {
   "cell_type": "code",
   "execution_count": 116,
   "id": "noticed-correspondence",
   "metadata": {},
   "outputs": [],
   "source": [
    "questions = [i.split('/')[3] for i in q_urls]"
   ]
  },
  {
   "cell_type": "code",
   "execution_count": 121,
   "id": "grand-reader",
   "metadata": {},
   "outputs": [],
   "source": [
    "df['question'] = questions"
   ]
  },
  {
   "cell_type": "code",
   "execution_count": 123,
   "id": "removable-bradford",
   "metadata": {},
   "outputs": [],
   "source": [
    "df['date'] = date"
   ]
  },
  {
   "cell_type": "code",
   "execution_count": 124,
   "id": "mechanical-bandwidth",
   "metadata": {},
   "outputs": [],
   "source": [
    "df['views'] = views"
   ]
  },
  {
   "cell_type": "code",
   "execution_count": 125,
   "id": "upset-sally",
   "metadata": {},
   "outputs": [],
   "source": [
    "df['upvotes'] = upvotes"
   ]
  },
  {
   "cell_type": "code",
   "execution_count": 127,
   "id": "military-million",
   "metadata": {},
   "outputs": [],
   "source": [
    "df['answer'] = stew"
   ]
  },
  {
   "cell_type": "code",
   "execution_count": 132,
   "id": "transparent-turkish",
   "metadata": {},
   "outputs": [],
   "source": [
    "df.to_csv(\"sr_quora_data.csv\")"
   ]
  }
 ],
 "metadata": {
  "kernelspec": {
   "display_name": "Python 3",
   "language": "python",
   "name": "python3"
  },
  "language_info": {
   "codemirror_mode": {
    "name": "ipython",
    "version": 3
   },
   "file_extension": ".py",
   "mimetype": "text/x-python",
   "name": "python",
   "nbconvert_exporter": "python",
   "pygments_lexer": "ipython3",
   "version": "3.9.1"
  }
 },
 "nbformat": 4,
 "nbformat_minor": 5
}

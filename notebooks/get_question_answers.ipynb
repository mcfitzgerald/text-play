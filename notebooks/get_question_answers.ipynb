{
 "cells": [
  {
   "cell_type": "code",
   "execution_count": 2,
   "id": "bibliographic-minimum",
   "metadata": {},
   "outputs": [
    {
     "name": "stdout",
     "output_type": "stream",
     "text": [
      "/Users/mikefitzgerald/Documents/GitHub/text-play\n"
     ]
    }
   ],
   "source": [
    "cd .."
   ]
  },
  {
   "cell_type": "code",
   "execution_count": 3,
   "id": "ordinary-berlin",
   "metadata": {},
   "outputs": [],
   "source": [
    "import utils.selenium_scroll as ss"
   ]
  },
  {
   "cell_type": "code",
   "execution_count": 4,
   "id": "buried-broadcasting",
   "metadata": {},
   "outputs": [],
   "source": [
    "# test a question url\n",
    "url = \"https://www.quora.com/Is-Indias-perception-of-the-caste-system-similar-to-Americas-perception-of-racism/answer/Tirumalai-Kamala\""
   ]
  },
  {
   "cell_type": "code",
   "execution_count": 5,
   "id": "dried-collaboration",
   "metadata": {},
   "outputs": [
    {
     "name": "stdout",
     "output_type": "stream",
     "text": [
      "scrolling...\n",
      "scrolling...\n",
      "end of page reached\n"
     ]
    }
   ],
   "source": [
    "source = ss.get_source(url)"
   ]
  },
  {
   "cell_type": "code",
   "execution_count": 6,
   "id": "satisfactory-seminar",
   "metadata": {},
   "outputs": [],
   "source": [
    "from bs4 import BeautifulSoup"
   ]
  },
  {
   "cell_type": "code",
   "execution_count": 7,
   "id": "theoretical-reducing",
   "metadata": {},
   "outputs": [],
   "source": [
    "soup = BeautifulSoup(source,'lxml')"
   ]
  },
  {
   "cell_type": "code",
   "execution_count": 8,
   "id": "perfect-immune",
   "metadata": {},
   "outputs": [],
   "source": [
    "with open(\"pretty_answer.html\",\"w+\") as f:\n",
    "    f.write(soup.prettify())"
   ]
  },
  {
   "cell_type": "code",
   "execution_count": 9,
   "id": "regional-offset",
   "metadata": {},
   "outputs": [],
   "source": [
    "pgraphs = soup.find_all(\"p\",{\"class\":\"q-text qu-display--block\"})"
   ]
  },
  {
   "cell_type": "code",
   "execution_count": null,
   "id": "gross-spending",
   "metadata": {},
   "outputs": [],
   "source": []
  },
  {
   "cell_type": "code",
   "execution_count": 10,
   "id": "communist-polymer",
   "metadata": {},
   "outputs": [],
   "source": [
    "spans = [i.find_all(\"span\") for i in pgraphs]"
   ]
  },
  {
   "cell_type": "code",
   "execution_count": 28,
   "id": "competitive-rotation",
   "metadata": {},
   "outputs": [
    {
     "data": {
      "text/plain": [
       "[<span style=\"font-weight: bold; font-style: normal; background: none;\">Dissimilarities between perceptions of caste system among Indians &amp; of racism among Americans</span>]"
      ]
     },
     "execution_count": 28,
     "metadata": {},
     "output_type": "execute_result"
    }
   ],
   "source": [
    "spans[0]"
   ]
  },
  {
   "cell_type": "code",
   "execution_count": 59,
   "id": "rental-saturn",
   "metadata": {},
   "outputs": [],
   "source": [
    "def full_ans(paras):\n",
    "    anscat = []\n",
    "    for i in paras:\n",
    "        for j in i.find_all(\"span\"):\n",
    "            anscat.append(j.text)\n",
    "    return \" \".join(anscat)"
   ]
  },
  {
   "cell_type": "code",
   "execution_count": 60,
   "id": "random-duncan",
   "metadata": {},
   "outputs": [
    {
     "data": {
      "text/plain": [
       "\"Dissimilarities between perceptions of caste system among Indians & of racism among Americans My experience suggests perceptions of the caste system among Indians and of racism among Americans have two key differences, one of  degree  and the other of  kind . The one of degree is  longevity . Thousands of years older, India's caste system has had that much more time to get thoroughly marinated in people's psyche. Inequities that should rightfully horrify any decent mind have thus become part of daily life, meaning people display a shocking degree of acceptance about the whole kit and caboodle of caste. Such wholesale acceptance of structural inequities is somewhat less visible except to discerning eyes in the frantic churn of huge, bustling metros, but much more so going down to smaller towns, becoming especially visible in the hamlets and villages of rural India. The one of  kind  is the diabolically clever manner by which the Indian caste system was kept in place through history, by ascribing actions of the past life, one's past life's karmas, as the arbiter for present life caste. ‘Born low caste or worse yet, casteless Dalit in this life? Too bad, only means you committed awful sins in your past life so you're fated in this one to beg, be a cobbler, dispose of dead bodies or clean other people's toilets. Born a high caste in this life? Excellent, earning it by your past life good deeds, you merit all the advantages bestowed upon you in this life by the mere accident of birth.’ The Indian caste system evolved to maintain social order by distributing power hierarchically and hereditarily. Its in-built advantage was a permanent and permanently oppressed under-class of casteless Dalits serving as the pressure release valve to mitigate inherent power distribution differences among caste Hindus. As for the Dalits? Conveniently self-serving answer in the form of ' Too bad, they're fated to carry in this life the burden of their past life karma '. Maintaining such a spurious charade for so long took a seriously devious level of con-artistry. After all, one can't petition for better equity in this life by summoning one's past life in court to provide evidence under oath of past life virtues, can one? Similarities between perceptions of caste system among Indians & of racism among Americans Segregation . Both American racism and Indian casteism malevolently twist the notions of purity and pollution to foster and maintain untenable levels of structural social and cultural inequity. Forceful black segregation followed by white self-segregation to affluent neighborhoods and better endowed school systems are eerily similar to how Dalits were kept segregated in India. ‘No, not among us, your community needs to live leeward down where the effluents flow out to from our pure caste habitations and no, you aren't welcome in our temples either. Stay away from us, you dushtas! Even your shadow must not cross us.’ What could breed more easily than suspicion and mistrust when population segments are kept or keep themselves separate? That makes it easier to filter and dole out privileges based on caste or race. After all, there's no law that a black man caught with marijuana should spend years in jail while a similarly culpable white man either pays a small fine or goes free. One can have any number of laws on the books but selective interpretation and application, which can be sub-conscious and therefore that much harder to pin down, thus end up actively shaping common perceptions, the easiest among them making a self-fulfilling prophecy out of the demonizing trope of excessive criminality among blacks. Denial . American racism and Indian casteism also have in my opinion similar degree and vehemence in hand-waving away benefits one accrues from accident of birth. Both have instituted various forms of welfare subsidies and affirmative action programs as attempts to expiate past inequities, eliciting immediate incessant howls of ' foul, foul, unfair ' from some of the generationally privileged. Why? Apparently life is zero-sum. Government attempts to tilt the scale away from generational inequity to benefit one apparently do so at the expense of another, who as a result is directly deprived. As these efforts visibly benefit their poorest, Dalits in India and blacks in America, recriminations against them are usually barely restrained and easily provoked into full bloom. For example in America, Ronald Reagan needed but one example, that of career grifter  Linda Taylor - Wikipedia   , to excoriate legions of welfare recipients as Cadillac-driving welfare cheats and use as an excuse to start gutting the American social welfare system, a process that each successive administration has only added to to different degrees but not reversed, at least not substantially until the ACA Medicaid expansions. Growing up in India, the arguments against affirmative action were variations of, ' What do you mean? I was born dirt poor and look how successful I've been. I'm a self-made person. I didn't depend on government hand-outs. '. At least materially, those who spoke thus were indeed born relatively poor and ended up firmly within the ranks of the relatively affluent middle-class. So what benefits were they hand-waving away? How about a long lineage of literacy? Literacy is a priceless advantage, a generational privilege so easily taken for granted, it can be and indeed is entirely glossed over. Everyone in my family could read and write, even my great grandmother. Even today how many middle-aged Indians could claim even their great grandparents were literate? When I started to learn to read and write, I had not just access to all the necessary materials but indeed birth advantage meant just about everyone in my formative environment was able to help me along every step of the way. Mind you, even those within my circle who grew up poor and claimed to be self-made somehow managed to attain multi-lingual fluency, being fluent in not just several Indian languages but also English, clear evidence if such were even necessary that even the so-called dirt poor aren't homogenous, with some endowed by caste (or race in America) with structural advantages of support networks and connections that rote political discourses choose to conveniently overlook. Resentment . Another standard trope common to Indian casteism and American racism is the lowering of so-called standards and norms. Well, maybe the first few generations of literates among the generationally fettered would fluently deploy better vocabulary, syntax, grammar and spelling if they'd also been so lucky as to have their formative environment be staffed and stuffed with those capable of helping them every step of the way day in, day out but they just didn't. For the most part, in both India and America they've merely had difficult and unstable access to poor schools in poor neighborhoods, staffed by poorly paid, poorly trained and likely poorly motivated teachers, access to few or none after-school resources, and certainly little access to knowledge and learning within their own families, communities and neighborhoods, not from any lack of moral fiber but simply as the reality of how structural social and cultural inequity plays out. Rather than individual merit alone, intergenerational wealth and resource transfer greatly influence one's own success in life. Disproportionate numbers among Indian Dalits and American Blacks lack the resources to help finance their children's college education, help them make down payments on their houses or leave behind a bequest or inheritance, advantages the rest take for granted, and which help them both build and retain wealth across generations. However, admitting such essential truths means letting the proverbial cat out of the bag, that such inequities exist not by accident but on purpose, to keep a permanent underclass of cheap and desperate labor available at the ready to do the bidding of the rest of society comprised of relative winners by birth. In that respect, not just perception but also purpose of caste in India and of racism in America are entirely yoked.\""
      ]
     },
     "execution_count": 60,
     "metadata": {},
     "output_type": "execute_result"
    }
   ],
   "source": [
    "full_ans(pgraphs)"
   ]
  },
  {
   "cell_type": "code",
   "execution_count": 12,
   "id": "dominican-classroom",
   "metadata": {},
   "outputs": [],
   "source": [
    "import re"
   ]
  },
  {
   "cell_type": "code",
   "execution_count": 13,
   "id": "dutch-detail",
   "metadata": {},
   "outputs": [],
   "source": [
    "pull_json = re.compile(r\"\\\"\\{\\\\\\\"data\\\\\\\".*?(?=\\;(\\r\\n|\\r|\\n)window)\")"
   ]
  },
  {
   "cell_type": "code",
   "execution_count": 14,
   "id": "together-boating",
   "metadata": {},
   "outputs": [],
   "source": [
    "groups = [i.group() for i in pull_json.finditer(source)]"
   ]
  },
  {
   "cell_type": "code",
   "execution_count": 27,
   "id": "sophisticated-valve",
   "metadata": {},
   "outputs": [
    {
     "ename": "NameError",
     "evalue": "name 'group' is not defined",
     "output_type": "error",
     "traceback": [
      "\u001b[0;31m---------------------------------------------------------------------------\u001b[0m",
      "\u001b[0;31mNameError\u001b[0m                                 Traceback (most recent call last)",
      "\u001b[0;32m<ipython-input-27-10590d0a7a46>\u001b[0m in \u001b[0;36m<module>\u001b[0;34m\u001b[0m\n\u001b[0;32m----> 1\u001b[0;31m \u001b[0mgroup\u001b[0m\u001b[0;34m\u001b[0m\u001b[0;34m\u001b[0m\u001b[0m\n\u001b[0m",
      "\u001b[0;31mNameError\u001b[0m: name 'group' is not defined"
     ]
    }
   ],
   "source": [
    "groups"
   ]
  },
  {
   "cell_type": "code",
   "execution_count": 15,
   "id": "elder-opposition",
   "metadata": {},
   "outputs": [],
   "source": [
    "import json"
   ]
  },
  {
   "cell_type": "code",
   "execution_count": 16,
   "id": "infrared-controversy",
   "metadata": {},
   "outputs": [],
   "source": [
    "a = json.loads(json.loads(groups[2]))"
   ]
  },
  {
   "cell_type": "code",
   "execution_count": 17,
   "id": "speaking-seating",
   "metadata": {},
   "outputs": [],
   "source": [
    "b = json.loads(a['data']['answer']['content'])"
   ]
  },
  {
   "cell_type": "code",
   "execution_count": 46,
   "id": "forbidden-pulse",
   "metadata": {},
   "outputs": [],
   "source": [
    "with open(\"question.json\",\"w+\") as outfile:\n",
    "        json.dump(a,outfile)"
   ]
  },
  {
   "cell_type": "code",
   "execution_count": 47,
   "id": "significant-oakland",
   "metadata": {},
   "outputs": [],
   "source": [
    "with open(\"question.json\",\"r\") as infile:\n",
    "    b =json.load(infile)"
   ]
  }
 ],
 "metadata": {
  "kernelspec": {
   "display_name": "Python 3",
   "language": "python",
   "name": "python3"
  },
  "language_info": {
   "codemirror_mode": {
    "name": "ipython",
    "version": 3
   },
   "file_extension": ".py",
   "mimetype": "text/x-python",
   "name": "python",
   "nbconvert_exporter": "python",
   "pygments_lexer": "ipython3",
   "version": "3.9.1"
  }
 },
 "nbformat": 4,
 "nbformat_minor": 5
}

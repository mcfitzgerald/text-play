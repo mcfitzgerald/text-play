{
 "cells": [
  {
   "cell_type": "code",
   "execution_count": 1,
   "id": "emerging-influence",
   "metadata": {},
   "outputs": [
    {
     "name": "stdout",
     "output_type": "stream",
     "text": [
      "/Users/mikefitzgerald/Documents/GitHub/text-play\n"
     ]
    }
   ],
   "source": [
    "cd .."
   ]
  },
  {
   "cell_type": "code",
   "execution_count": 2,
   "id": "corrected-netscape",
   "metadata": {},
   "outputs": [],
   "source": [
    "import utils.selenium_scroll as ss"
   ]
  },
  {
   "cell_type": "code",
   "execution_count": 3,
   "id": "graduate-ballet",
   "metadata": {},
   "outputs": [],
   "source": [
    "url = \"https://www.quora.com/search?q=systemic%20racism&type=answer\""
   ]
  },
  {
   "cell_type": "code",
   "execution_count": 4,
   "id": "macro-advocate",
   "metadata": {},
   "outputs": [
    {
     "name": "stdout",
     "output_type": "stream",
     "text": [
      "scrolling...\n",
      "scrolling...\n",
      "scrolling...\n",
      "scrolling...\n",
      "scrolling...\n",
      "scrolling...\n",
      "scrolling...\n",
      "scrolling...\n",
      "scrolling...\n",
      "scrolling...\n",
      "end of page reached\n"
     ]
    }
   ],
   "source": [
    "source = ss.get_source(url)"
   ]
  },
  {
   "cell_type": "code",
   "execution_count": 5,
   "id": "adjacent-lesson",
   "metadata": {},
   "outputs": [],
   "source": [
    "from bs4 import BeautifulSoup"
   ]
  },
  {
   "cell_type": "code",
   "execution_count": 6,
   "id": "fabulous-corps",
   "metadata": {},
   "outputs": [],
   "source": [
    "soup = BeautifulSoup(source,'lxml')"
   ]
  },
  {
   "cell_type": "code",
   "execution_count": 7,
   "id": "sharp-geology",
   "metadata": {},
   "outputs": [],
   "source": [
    "all_links = []\n",
    "for link in soup.find_all('a'):\n",
    "    all_links.append(link.get('href'))"
   ]
  },
  {
   "cell_type": "code",
   "execution_count": 8,
   "id": "hairy-survey",
   "metadata": {},
   "outputs": [],
   "source": [
    "import re"
   ]
  },
  {
   "cell_type": "code",
   "execution_count": 9,
   "id": "double-deployment",
   "metadata": {},
   "outputs": [],
   "source": [
    "regex = re.compile(r\"\\/answer\")\n",
    "#regex = re.compile(r\"\\/profile|\\/contact|\\/careers|\\/search\\?q|\\/about|^\\/$\")"
   ]
  },
  {
   "cell_type": "code",
   "execution_count": 10,
   "id": "incredible-kitchen",
   "metadata": {},
   "outputs": [],
   "source": [
    "answered = []\n",
    "for i in all_links:\n",
    "    if regex.search(i):\n",
    "        answered.append(i)"
   ]
  },
  {
   "cell_type": "code",
   "execution_count": 12,
   "id": "turkish-minority",
   "metadata": {},
   "outputs": [],
   "source": [
    "# Create full question urls\n",
    "prefix = \"https://quora.com\"\n",
    "question_urls = [prefix+i for i in answered]"
   ]
  },
  {
   "cell_type": "code",
   "execution_count": 13,
   "id": "talented-protest",
   "metadata": {},
   "outputs": [],
   "source": [
    "with open(\"sr_question_urls.txt\",\"w+\") as f:\n",
    "    f.writelines('\\n'.join(question_urls))"
   ]
  }
 ],
 "metadata": {
  "kernelspec": {
   "display_name": "Python 3",
   "language": "python",
   "name": "python3"
  },
  "language_info": {
   "codemirror_mode": {
    "name": "ipython",
    "version": 3
   },
   "file_extension": ".py",
   "mimetype": "text/x-python",
   "name": "python",
   "nbconvert_exporter": "python",
   "pygments_lexer": "ipython3",
   "version": "3.9.1"
  }
 },
 "nbformat": 4,
 "nbformat_minor": 5
}

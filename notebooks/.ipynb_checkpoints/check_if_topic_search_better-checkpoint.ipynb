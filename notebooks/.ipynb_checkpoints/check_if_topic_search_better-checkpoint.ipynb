{
 "cells": [
  {
   "cell_type": "code",
   "execution_count": 2,
   "id": "intended-external",
   "metadata": {},
   "outputs": [
    {
     "name": "stdout",
     "output_type": "stream",
     "text": [
      "/Users/mikefitzgerald/Documents/GitHub/text-play\n"
     ]
    }
   ],
   "source": [
    "cd .."
   ]
  },
  {
   "cell_type": "code",
   "execution_count": 3,
   "id": "pretty-shift",
   "metadata": {},
   "outputs": [],
   "source": [
    "import utils.selenium_scroll as ss"
   ]
  },
  {
   "cell_type": "code",
   "execution_count": 4,
   "id": "integral-enhancement",
   "metadata": {},
   "outputs": [],
   "source": [
    "url = \"https://www.quora.com/topic/Systemic-Racism\""
   ]
  },
  {
   "cell_type": "code",
   "execution_count": 5,
   "id": "determined-surgery",
   "metadata": {},
   "outputs": [
    {
     "name": "stdout",
     "output_type": "stream",
     "text": [
      "scrolling...\n",
      "scrolling...\n",
      "scrolling...\n",
      "scrolling...\n",
      "scrolling...\n",
      "scrolling...\n",
      "scrolling...\n",
      "scrolling...\n",
      "scrolling...\n",
      "scrolling...\n",
      "scrolling...\n",
      "end of page reached\n"
     ]
    }
   ],
   "source": [
    "source = ss.get_source(url)"
   ]
  },
  {
   "cell_type": "code",
   "execution_count": 6,
   "id": "virgin-broad",
   "metadata": {},
   "outputs": [],
   "source": [
    "from bs4 import BeautifulSoup"
   ]
  },
  {
   "cell_type": "code",
   "execution_count": 7,
   "id": "tender-destination",
   "metadata": {},
   "outputs": [],
   "source": [
    "soup = BeautifulSoup(source,'lxml')"
   ]
  },
  {
   "cell_type": "code",
   "execution_count": 8,
   "id": "turkish-notebook",
   "metadata": {},
   "outputs": [],
   "source": [
    "with open(\"pretty_topic_search.html\",\"w+\") as f:\n",
    "    f.write(soup.prettify())"
   ]
  },
  {
   "cell_type": "code",
   "execution_count": 17,
   "id": "killing-sunrise",
   "metadata": {},
   "outputs": [],
   "source": [
    "topic_links =[]\n",
    "for link in soup.find_all(\"a\",{\"class\":\"q-box qu-cursor--pointer qu-hover--textDecoration--underline qu-userSelect--text\"}):\n",
    "    topic_links.append((link.get('href')))"
   ]
  },
  {
   "cell_type": "code",
   "execution_count": 18,
   "id": "dramatic-chinese",
   "metadata": {},
   "outputs": [
    {
     "data": {
      "text/plain": [
       "270"
      ]
     },
     "execution_count": 18,
     "metadata": {},
     "output_type": "execute_result"
    }
   ],
   "source": [
    "len(topic_links)"
   ]
  },
  {
   "cell_type": "code",
   "execution_count": 20,
   "id": "intelligent-supplement",
   "metadata": {},
   "outputs": [],
   "source": [
    "import re"
   ]
  },
  {
   "cell_type": "code",
   "execution_count": 21,
   "id": "stylish-kansas",
   "metadata": {},
   "outputs": [],
   "source": [
    "regex = re.compile(r\"\\/answer\")"
   ]
  },
  {
   "cell_type": "code",
   "execution_count": 22,
   "id": "residential-april",
   "metadata": {},
   "outputs": [],
   "source": [
    "answered = []\n",
    "for i in topic_links:\n",
    "    if regex.search(i):\n",
    "        answered.append(i)"
   ]
  },
  {
   "cell_type": "code",
   "execution_count": 23,
   "id": "spanish-blond",
   "metadata": {},
   "outputs": [
    {
     "data": {
      "text/plain": [
       "90"
      ]
     },
     "execution_count": 23,
     "metadata": {},
     "output_type": "execute_result"
    }
   ],
   "source": [
    "len(answered)"
   ]
  },
  {
   "cell_type": "code",
   "execution_count": null,
   "id": "designing-chocolate",
   "metadata": {},
   "outputs": [],
   "source": []
  }
 ],
 "metadata": {
  "kernelspec": {
   "display_name": "Python 3",
   "language": "python",
   "name": "python3"
  },
  "language_info": {
   "codemirror_mode": {
    "name": "ipython",
    "version": 3
   },
   "file_extension": ".py",
   "mimetype": "text/x-python",
   "name": "python",
   "nbconvert_exporter": "python",
   "pygments_lexer": "ipython3",
   "version": "3.9.1"
  }
 },
 "nbformat": 4,
 "nbformat_minor": 5
}
